{
  "nbformat": 4,
  "nbformat_minor": 0,
  "metadata": {
    "colab": {
      "name": "ДЗ №1.ipynb",
      "provenance": [],
      "collapsed_sections": [],
      "include_colab_link": true
    },
    "kernelspec": {
      "name": "python3",
      "display_name": "Python 3"
    }
  },
  "cells": [
    {
      "cell_type": "markdown",
      "metadata": {
        "id": "view-in-github",
        "colab_type": "text"
      },
      "source": [
        "<a href=\"https://colab.research.google.com/github/buzaev-fedor/homework-from-ml-course/blob/master/%D0%94%D0%97_%E2%84%961.ipynb\" target=\"_parent\"><img src=\"https://colab.research.google.com/assets/colab-badge.svg\" alt=\"Open In Colab\"/></a>"
      ]
    },
    {
      "cell_type": "markdown",
      "metadata": {
        "id": "6Syxlvc-eJnb",
        "colab_type": "text"
      },
      "source": [
        "# Домашнее задание №1\n",
        "\n",
        "В этом домашнем задании нам нужно закрепить основы синтаксиса python.\n"
      ]
    },
    {
      "cell_type": "markdown",
      "metadata": {
        "id": "MfdWCkREiXnh",
        "colab_type": "text"
      },
      "source": [
        "# Задание 1\n",
        "\n",
        "Написать программу, которая по входным значениям $a$, $b$, $c$ решала бы квадратное уравнение ($ax^2 + bx + c$)\n",
        "\n",
        "Подсказка, корень можно найти так:\n",
        "```\n",
        "import math \n",
        "math.sqrt(4)\n",
        "```\n",
        "\n"
      ]
    },
    {
      "cell_type": "code",
      "metadata": {
        "id": "htc-I_NdiXtl",
        "colab_type": "code",
        "outputId": "80ac6bd5-0dab-4b7b-fb3e-34796d2af3f5",
        "colab": {
          "base_uri": "https://localhost:8080/",
          "height": 55
        }
      },
      "source": [
        "import math \n",
        "\n",
        "a = 2\n",
        "b = 9\n",
        "c = 9\n",
        "\n",
        "# ваш код тут\n",
        "D = b**2 - 4 * a * c\n",
        "x1 = (-b + math.sqrt(D))/ (2 * a)\n",
        "x2 = (-b - math.sqrt(D))/ (2 * a)\n",
        "\n",
        "print(\"x1 =\", x1)\n",
        "print(\"x2 =\", x2)"
      ],
      "execution_count": 0,
      "outputs": [
        {
          "output_type": "stream",
          "text": [
            "x1 = -1.5\n",
            "x2 = -3.0\n"
          ],
          "name": "stdout"
        }
      ]
    },
    {
      "cell_type": "markdown",
      "metadata": {
        "id": "w2H6is-qCphW",
        "colab_type": "text"
      },
      "source": [
        "# Задание 2\n",
        "\n",
        "Рассмотрим набор данных курса акций Apple (ежедневно) с 01.01.2007 по 29.04.2020. Найти количество выбросов в данных. Выбросом будем считать изменение цены более, чем на 12% (от прошлого дня) в любую сторону.\n",
        "\n",
        "Код по скачке предоставлен заранее, формат данных - питоновкский список.\n",
        "\n",
        "Бонусное задание: \n",
        "\n",
        "Решить с помощью библиотеки Pandas или Numpy. Найти даты этих выбросов.\n",
        "\n"
      ]
    },
    {
      "cell_type": "code",
      "metadata": {
        "id": "LrG5BBhdCpoa",
        "colab_type": "code",
        "outputId": "4a7486d9-4b6a-48e8-8155-572088be7ce1",
        "colab": {
          "base_uri": "https://localhost:8080/",
          "height": 711
        }
      },
      "source": [
        "# устанавливаем и импортируем библиотеку для скачивания котровок\n",
        "!pip install yfinance\n",
        "import yfinance as yf  \n",
        " \n",
        "# Скачиваем набор котировок компании Apple с 01.01.2007 по 29.04.2020\n",
        "df = yf.download('AAPL','2007-01-01','2020-04-29')\n",
        "# отображаем на графике\n",
        "df.Close.plot()"
      ],
      "execution_count": 0,
      "outputs": [
        {
          "output_type": "stream",
          "text": [
            "Collecting yfinance\n",
            "  Downloading https://files.pythonhosted.org/packages/c2/31/8b374a12b90def92a4e27d0fc595fc43635f395984e36a075244d98bd265/yfinance-0.1.54.tar.gz\n",
            "Requirement already satisfied: pandas>=0.24 in /usr/local/lib/python3.6/dist-packages (from yfinance) (1.0.3)\n",
            "Requirement already satisfied: numpy>=1.15 in /usr/local/lib/python3.6/dist-packages (from yfinance) (1.18.4)\n",
            "Requirement already satisfied: requests>=2.20 in /usr/local/lib/python3.6/dist-packages (from yfinance) (2.23.0)\n",
            "Requirement already satisfied: multitasking>=0.0.7 in /usr/local/lib/python3.6/dist-packages (from yfinance) (0.0.9)\n",
            "Requirement already satisfied: python-dateutil>=2.6.1 in /usr/local/lib/python3.6/dist-packages (from pandas>=0.24->yfinance) (2.8.1)\n",
            "Requirement already satisfied: pytz>=2017.2 in /usr/local/lib/python3.6/dist-packages (from pandas>=0.24->yfinance) (2018.9)\n",
            "Requirement already satisfied: urllib3!=1.25.0,!=1.25.1,<1.26,>=1.21.1 in /usr/local/lib/python3.6/dist-packages (from requests>=2.20->yfinance) (1.24.3)\n",
            "Requirement already satisfied: certifi>=2017.4.17 in /usr/local/lib/python3.6/dist-packages (from requests>=2.20->yfinance) (2020.4.5.1)\n",
            "Requirement already satisfied: idna<3,>=2.5 in /usr/local/lib/python3.6/dist-packages (from requests>=2.20->yfinance) (2.9)\n",
            "Requirement already satisfied: chardet<4,>=3.0.2 in /usr/local/lib/python3.6/dist-packages (from requests>=2.20->yfinance) (3.0.4)\n",
            "Requirement already satisfied: six>=1.5 in /usr/local/lib/python3.6/dist-packages (from python-dateutil>=2.6.1->pandas>=0.24->yfinance) (1.12.0)\n",
            "Building wheels for collected packages: yfinance\n",
            "  Building wheel for yfinance (setup.py) ... \u001b[?25l\u001b[?25hdone\n",
            "  Created wheel for yfinance: filename=yfinance-0.1.54-py2.py3-none-any.whl size=22409 sha256=1ccd2a27061150f8baf04077afd4b0ea5182052adf7ce2f380e86c2b46be473f\n",
            "  Stored in directory: /root/.cache/pip/wheels/f9/e3/5b/ec24dd2984b12d61e0abf26289746c2436a0e7844f26f2515c\n",
            "Successfully built yfinance\n",
            "Installing collected packages: yfinance\n",
            "Successfully installed yfinance-0.1.54\n",
            "[*********************100%***********************]  1 of 1 completed\n"
          ],
          "name": "stdout"
        },
        {
          "output_type": "execute_result",
          "data": {
            "text/plain": [
              "<matplotlib.axes._subplots.AxesSubplot at 0x7f8d090304e0>"
            ]
          },
          "metadata": {
            "tags": []
          },
          "execution_count": 3
        },
        {
          "output_type": "display_data",
          "data": {
            "image/png": "[encoded data removed]",
            "text/plain": [
              "<Figure size 432x288 with 1 Axes>"
            ]
          },
          "metadata": {
            "tags": [],
            "needs_background": "light"
          }
        }
      ]
    },
    {
      "cell_type": "code",
      "metadata": {
        "id": "AsAlPQOzGIBg",
        "colab_type": "code",
        "outputId": "62043480-27ff-4b26-9930-dbcaa1181ec0",
        "colab": {
          "base_uri": "https://localhost:8080/",
          "height": 55
        }
      },
      "source": [
        "# ваш изначальный набор данных - ежедневная цена цена закрытия, формат - питоновский список список\n",
        "data = df.Close.tolist()\n",
        "# распечатаем пару первых значений\n",
        "\n",
        "outburst = 0\n",
        "days = len(data) # Выясняю, сколько дней в промежутке с 01.01.2007 по 29.04.2020 \n",
        "\n",
        "for i in range(1, days):\n",
        "  if data[i] < (data[i - 1])*1.12 and data[i] > (data[i - 1])* 0.88:\n",
        "    pass\n",
        "  else:\n",
        "    outburst += 1\n",
        "\n",
        "\n",
        "print(f\"Всего выбросов: {outburst}\")\n",
        "print(f\"Всего дней: {days}\")\n"
      ],
      "execution_count": 0,
      "outputs": [
        {
          "output_type": "stream",
          "text": [
            "Всего выбросов: 5\n",
            "Всего дней: 3353\n"
          ],
          "name": "stdout"
        }
      ]
    },
    {
      "cell_type": "code",
      "metadata": {
        "id": "5LGTK8YGeG7P",
        "colab_type": "code",
        "outputId": "f67f5e20-cf4a-45e1-8610-0a153f27bdf8",
        "colab": {
          "base_uri": "https://localhost:8080/",
          "height": 455
        }
      },
      "source": [
        "df"
      ],
      "execution_count": 0,
      "outputs": [
        {
          "output_type": "execute_result",
          "data": {
            "text/html": [
              "<div>\n",
              "<style scoped>\n",
              "    .dataframe tbody tr th:only-of-type {\n",
              "        vertical-align: middle;\n",
              "    }\n",
              "\n",
              "    .dataframe tbody tr th {\n",
              "        vertical-align: top;\n",
              "    }\n",
              "\n",
              "    .dataframe thead th {\n",
              "        text-align: right;\n",
              "    }\n",
              "</style>\n",
              "<table border=\"1\" class=\"dataframe\">\n",
              "  <thead>\n",
              "    <tr style=\"text-align: right;\">\n",
              "      <th></th>\n",
              "      <th>Open</th>\n",
              "      <th>High</th>\n",
              "      <th>Low</th>\n",
              "      <th>Close</th>\n",
              "      <th>Adj Close</th>\n",
              "      <th>Volume</th>\n",
              "    </tr>\n",
              "    <tr>\n",
              "      <th>Date</th>\n",
              "      <th></th>\n",
              "      <th></th>\n",
              "      <th></th>\n",
              "      <th></th>\n",
              "      <th></th>\n",
              "      <th></th>\n",
              "    </tr>\n",
              "  </thead>\n",
              "  <tbody>\n",
              "    <tr>\n",
              "      <th>2007-01-03</th>\n",
              "      <td>12.327143</td>\n",
              "      <td>12.368571</td>\n",
              "      <td>11.700000</td>\n",
              "      <td>11.971429</td>\n",
              "      <td>10.391690</td>\n",
              "      <td>309579900</td>\n",
              "    </tr>\n",
              "    <tr>\n",
              "      <th>2007-01-04</th>\n",
              "      <td>12.007143</td>\n",
              "      <td>12.278571</td>\n",
              "      <td>11.974286</td>\n",
              "      <td>12.237143</td>\n",
              "      <td>10.622340</td>\n",
              "      <td>211815100</td>\n",
              "    </tr>\n",
              "    <tr>\n",
              "      <th>2007-01-05</th>\n",
              "      <td>12.252857</td>\n",
              "      <td>12.314285</td>\n",
              "      <td>12.057143</td>\n",
              "      <td>12.150000</td>\n",
              "      <td>10.546695</td>\n",
              "      <td>208685400</td>\n",
              "    </tr>\n",
              "    <tr>\n",
              "      <th>2007-01-08</th>\n",
              "      <td>12.280000</td>\n",
              "      <td>12.361428</td>\n",
              "      <td>12.182858</td>\n",
              "      <td>12.210000</td>\n",
              "      <td>10.598778</td>\n",
              "      <td>199276700</td>\n",
              "    </tr>\n",
              "    <tr>\n",
              "      <th>2007-01-09</th>\n",
              "      <td>12.350000</td>\n",
              "      <td>13.282857</td>\n",
              "      <td>12.164286</td>\n",
              "      <td>13.224286</td>\n",
              "      <td>11.479221</td>\n",
              "      <td>837324600</td>\n",
              "    </tr>\n",
              "    <tr>\n",
              "      <th>...</th>\n",
              "      <td>...</td>\n",
              "      <td>...</td>\n",
              "      <td>...</td>\n",
              "      <td>...</td>\n",
              "      <td>...</td>\n",
              "      <td>...</td>\n",
              "    </tr>\n",
              "    <tr>\n",
              "      <th>2020-04-22</th>\n",
              "      <td>273.609985</td>\n",
              "      <td>277.899994</td>\n",
              "      <td>272.200012</td>\n",
              "      <td>276.100006</td>\n",
              "      <td>276.100006</td>\n",
              "      <td>29264300</td>\n",
              "    </tr>\n",
              "    <tr>\n",
              "      <th>2020-04-23</th>\n",
              "      <td>275.869995</td>\n",
              "      <td>281.750000</td>\n",
              "      <td>274.869995</td>\n",
              "      <td>275.029999</td>\n",
              "      <td>275.029999</td>\n",
              "      <td>31203600</td>\n",
              "    </tr>\n",
              "    <tr>\n",
              "      <th>2020-04-24</th>\n",
              "      <td>277.200012</td>\n",
              "      <td>283.010010</td>\n",
              "      <td>277.000000</td>\n",
              "      <td>282.970001</td>\n",
              "      <td>282.970001</td>\n",
              "      <td>31627200</td>\n",
              "    </tr>\n",
              "    <tr>\n",
              "      <th>2020-04-27</th>\n",
              "      <td>281.799988</td>\n",
              "      <td>284.540009</td>\n",
              "      <td>279.950012</td>\n",
              "      <td>283.170013</td>\n",
              "      <td>283.170013</td>\n",
              "      <td>29271900</td>\n",
              "    </tr>\n",
              "    <tr>\n",
              "      <th>2020-04-28</th>\n",
              "      <td>285.079987</td>\n",
              "      <td>285.829987</td>\n",
              "      <td>278.200012</td>\n",
              "      <td>278.579987</td>\n",
              "      <td>278.579987</td>\n",
              "      <td>28001200</td>\n",
              "    </tr>\n",
              "  </tbody>\n",
              "</table>\n",
              "<p>3353 rows × 6 columns</p>\n",
              "</div>"
            ],
            "text/plain": [
              "                  Open        High  ...   Adj Close     Volume\n",
              "Date                                ...                       \n",
              "2007-01-03   12.327143   12.368571  ...   10.391690  309579900\n",
              "2007-01-04   12.007143   12.278571  ...   10.622340  211815100\n",
              "2007-01-05   12.252857   12.314285  ...   10.546695  208685400\n",
              "2007-01-08   12.280000   12.361428  ...   10.598778  199276700\n",
              "2007-01-09   12.350000   13.282857  ...   11.479221  837324600\n",
              "...                ...         ...  ...         ...        ...\n",
              "2020-04-22  273.609985  277.899994  ...  276.100006   29264300\n",
              "2020-04-23  275.869995  281.750000  ...  275.029999   31203600\n",
              "2020-04-24  277.200012  283.010010  ...  282.970001   31627200\n",
              "2020-04-27  281.799988  284.540009  ...  283.170013   29271900\n",
              "2020-04-28  285.079987  285.829987  ...  278.579987   28001200\n",
              "\n",
              "[3353 rows x 6 columns]"
            ]
          },
          "metadata": {
            "tags": []
          },
          "execution_count": 147
        }
      ]
    },
    {
      "cell_type": "code",
      "metadata": {
        "id": "F99U8uJsEBud",
        "colab_type": "code",
        "outputId": "6c185baf-ccaa-492b-a5c6-05d7f37c05c2",
        "colab": {
          "base_uri": "https://localhost:8080/",
          "height": 56
        }
      },
      "source": [
        "# бонусное задание, ваш код тут\n",
        "days_outburst = list() # Создаю список, куда буду записывать Дату выброса.\n",
        "for i in range(1, len(df)): \n",
        "  if (df.Close.values[i] < df.Close.values[i - 1]*1.12) & (df.Close[i] > df.Close[i - 1]*0.88):\n",
        "    pass\n",
        "  else:\n",
        "    days_outburst.append(df.Close.index[i-1]) # Здесь добавляю индекс столбца Close - это и есть дата. [i-1] так как показываю предыдущий день\n",
        "print(days_outburst)"
      ],
      "execution_count": 0,
      "outputs": [
        {
          "output_type": "stream",
          "text": [
            "[Timestamp('2008-09-26 00:00:00'), Timestamp('2008-10-10 00:00:00'), Timestamp('2008-11-21 00:00:00'), Timestamp('2013-01-23 00:00:00'), Timestamp('2020-03-13 00:00:00')]\n"
          ],
          "name": "stdout"
        }
      ]
    },
    {
      "cell_type": "code",
      "metadata": {
        "id": "wSA_uMbCNGla",
        "colab_type": "code",
        "outputId": "2ecc2760-a60e-4d07-e3a9-04becdf8396f",
        "colab": {
          "base_uri": "https://localhost:8080/",
          "height": 68
        }
      },
      "source": [
        ""
      ],
      "execution_count": 0,
      "outputs": [
        {
          "output_type": "execute_result",
          "data": {
            "text/plain": [
              "DatetimeIndex(['2008-09-29', '2008-10-13', '2008-11-24', '2013-01-24',\n",
              "               '2020-03-16'],\n",
              "              dtype='datetime64[ns]', name='Date', freq=None)"
            ]
          },
          "metadata": {
            "tags": []
          },
          "execution_count": 44
        }
      ]
    },
    {
      "cell_type": "markdown",
      "metadata": {
        "id": "12SPnUCXhNSy",
        "colab_type": "text"
      },
      "source": [
        "# Задание 3\n",
        "\n",
        "Предположим, что мы наблюдаем за некоторым признаком нашего набора данных, но в данных есть пропуски. Ваша задача реализовать алгоритм заполнения пропущенных значений с помощью средств python.\n",
        "\n",
        "Изначальный код с инициализацией такого набора данных предоставлен. Реализовать ваше решение можно в блоке \n",
        "\n",
        "\n",
        "Бонусное задание: \n",
        "\n",
        "Решить с помощью библиотеки Pandas"
      ]
    },
    {
      "cell_type": "code",
      "metadata": {
        "id": "lVcxkz5dFXDD",
        "colab_type": "code",
        "outputId": "d4d9e26b-3dc9-4400-f497-583906793ff7",
        "colab": {
          "base_uri": "https://localhost:8080/",
          "height": 36
        }
      },
      "source": [
        "try:\n",
        "  list_1 = [None, 4, 5, 6, None, 65, 7]\n",
        "  tmp_list = list()\n",
        "  for i in range(len(list_1)):\n",
        "    if list_1[i] == None and list_1[0] != None:\n",
        "      tmp_list.append(a)\n",
        "    elif list_1[i] != None:\n",
        "      a = list_1[i]\n",
        "      tmp_list.append(a)\n",
        "    else:\n",
        "      a = list_1[i+1]\n",
        "      tmp_list.append(a)\n",
        "      list_1[0] = a\n",
        "except Exception as e:\n",
        "  print(e)\n",
        "list_1 = tmp_list.copy()\n",
        "print(list_1)\n",
        "  \n"
      ],
      "execution_count": 0,
      "outputs": [
        {
          "output_type": "stream",
          "text": [
            "[4, 4, 5, 6, 6, 65, 7]\n"
          ],
          "name": "stdout"
        }
      ]
    },
    {
      "cell_type": "code",
      "metadata": {
        "id": "xVpa1xw4h9e7",
        "colab_type": "code",
        "outputId": "3004ca01-5ea8-4808-f756-a28529334890",
        "colab": {
          "base_uri": "https://localhost:8080/",
          "height": 284
        }
      },
      "source": [
        "# импортируем библиотеку для создания шума\n",
        "import random\n",
        "# библиотека для визуализации\n",
        "import matplotlib.pyplot as plt\n",
        "import numpy as np\n",
        "import pandas as pd\n",
        "\n",
        "# создадим наши данные и добавим к каждой точке синусоиды случайный шум\n",
        "a = np.linspace(0, 25, 100)\n",
        "a = np.sin(a) + [random.gauss(0, 0.2) for i in range(len(a))]\n",
        "\n",
        "# создадим 10 случайных пропусков\n",
        "for i in range(10):\n",
        "    a[random.randint(0, len(a) - 1)] = None\n",
        "# создадим датафрейм\n",
        "df = pd.DataFrame({'target':a})\n",
        "\n",
        "# ваш код тут\n",
        "for i in range(len(df)):\n",
        "  if df[i:i+1].isna().values == True and df[0:1].isna().values == False:\n",
        "    df.values[i:i+1] = df.values[i-1:i]\n",
        "  elif df[0:1].isna().values == True:\n",
        "    df.values[0:1] = df.values[i+1:i+2]\n",
        "  else:\n",
        "    pass\n",
        "df\n",
        "# отобразим\n",
        "plt.plot(df.target.values)"
      ],
      "execution_count": 0,
      "outputs": [
        {
          "output_type": "execute_result",
          "data": {
            "text/plain": [
              "[<matplotlib.lines.Line2D at 0x7f8d0baa12e8>]"
            ]
          },
          "metadata": {
            "tags": []
          },
          "execution_count": 1
        },
        {
          "output_type": "display_data",
          "data": {
            "image/png": "[encoded data removed]",
            "text/plain": [
              "<Figure size 432x288 with 1 Axes>"
            ]
          },
          "metadata": {
            "tags": [],
            "needs_background": "light"
          }
        }
      ]
    },
    {
      "cell_type": "code",
      "metadata": {
        "id": "Na941_E0f4Gb",
        "colab_type": "code",
        "outputId": "703eb520-c93c-404a-92ef-0dbd93e563bb",
        "colab": {
          "base_uri": "https://localhost:8080/",
          "height": 283
        }
      },
      "source": [
        "# то, что должно получиться\n",
        "# бонусное задание, ваш код тут\n",
        "# импортируем библиотеку для создания шума\n",
        "import random\n",
        "# библиотека для визуализации\n",
        "import matplotlib.pyplot as plt\n",
        "\n",
        "# создадим наши данные и добавим к каждой точке синусоиды случайный шум\n",
        "a = np.linspace(0, 25, 100)\n",
        "a = np.sin(a) + [random.gauss(0, 0.2) for i in range(len(a))]\n",
        "\n",
        "# создадим 10 случайных пропусков\n",
        "for i in range(10):\n",
        "    a[random.randint(0, len(a) - 1)] = None\n",
        "# создадим датафрейм\n",
        "df = pd.DataFrame({'target':a})\n",
        "\n",
        "# бонусное задание, ваш код тут\n",
        "\n",
        "\n",
        "# отобразим\n",
        "plt.plot(df.target.values)"
      ],
      "execution_count": 0,
      "outputs": [
        {
          "output_type": "execute_result",
          "data": {
            "text/plain": [
              "[<matplotlib.lines.Line2D at 0x7f6c0be50278>]"
            ]
          },
          "metadata": {
            "tags": []
          },
          "execution_count": 6
        },
        {
          "output_type": "display_data",
          "data": {
            "image/png": "[encoded data removed]",
            "text/plain": [
              "<Figure size 432x288 with 1 Axes>"
            ]
          },
          "metadata": {
            "tags": [],
            "needs_background": "light"
          }
        }
      ]
    },
    {
      "cell_type": "markdown",
      "metadata": {
        "id": "Y9IB5yaKLT6s",
        "colab_type": "text"
      },
      "source": [
        "# Задание 4\n",
        "\n",
        "Важной частью классических алгоритмов машинного обучения является операции с матрицами. Реализуйте код, который перемножит матрицы. (Как это и зачем это нужно делать будет рассмотрено далее в курсе, на текущий момент алгоритм можно найти [тут](https://ru.wikipedia.org/wiki/%D0%A3%D0%BC%D0%BD%D0%BE%D0%B6%D0%B5%D0%BD%D0%B8%D0%B5_%D0%BC%D0%B0%D1%82%D1%80%D0%B8%D1%86) )\n",
        "\n",
        "Бонусное задание:\n",
        "\n",
        "Решить с помощью библиотеки Numpy."
      ]
    },
    {
      "cell_type": "code",
      "metadata": {
        "id": "92V_OkgWit7x",
        "colab_type": "code",
        "outputId": "efb0d4a5-97a6-469e-8ae8-3329e43e3e34",
        "colab": {
          "base_uri": "https://localhost:8080/",
          "height": 55
        }
      },
      "source": [
        "\n",
        "def matrixmultiplication(A, B):\n",
        "    line_A = len(A) # строки А\n",
        "    column_A = len(A[0]) # столбцы A\n",
        "    column_B = len(B[0]) # столбцы B\n",
        "    line_B = len(B) # строки B\n",
        "    if column_A != line_B:\n",
        "      print(\"Cannot multiply the two matrices. Incorrect dimensions.\")\n",
        "      return\n",
        "\n",
        "    C = [[0 for line in range(column_B)] for column in range(line_A)] # Создаем конечную матрицу конечного размера\n",
        "    print(C) #проверка матрицы\n",
        "    for i in range(line_A):\n",
        "      for j in range(column_B):\n",
        "        for k in range(column_A):\n",
        "          C[i][j] += A[i][k] * B[k][j]\n",
        "    return C\n",
        "\n",
        "A = [[1, 3, -5],\n",
        "     [3, 0, 2]]\n",
        "B = [[0, -3],\n",
        "     [-1, 3],\n",
        "     [1, 2]]\n",
        "\n",
        "matrixmultiplication(A, B)"
      ],
      "execution_count": 0,
      "outputs": [
        {
          "output_type": "stream",
          "text": [
            "[[0, 0], [0, 0]]\n"
          ],
          "name": "stdout"
        },
        {
          "output_type": "execute_result",
          "data": {
            "text/plain": [
              "[[-8, -4], [2, -5]]"
            ]
          },
          "metadata": {
            "tags": []
          },
          "execution_count": 10
        }
      ]
    },
    {
      "cell_type": "code",
      "metadata": {
        "id": "ERGuS2SW9BWs",
        "colab_type": "code",
        "outputId": "d5067ac4-535e-419c-bf2c-2d0e15ad3bc1",
        "colab": {
          "base_uri": "https://localhost:8080/",
          "height": 55
        }
      },
      "source": [
        "import numpy as np\n",
        "\n",
        "A = np.array([[1, 3, -5],\n",
        "              [3, 0, 2]])\n",
        "\n",
        "B = np.array([[0, -3],\n",
        "              [-1, 3],\n",
        "              [1, 2]])\n",
        "\n",
        "C = A.dot(B)\n",
        "C"
      ],
      "execution_count": 0,
      "outputs": [
        {
          "output_type": "execute_result",
          "data": {
            "text/plain": [
              "array([[-8, -4],\n",
              "       [ 2, -5]])"
            ]
          },
          "metadata": {
            "tags": []
          },
          "execution_count": 73
        }
      ]
    },
    {
      "cell_type": "code",
      "metadata": {
        "id": "29e8UvVKuz-r",
        "colab_type": "code",
        "colab": {}
      },
      "source": [
        ""
      ],
      "execution_count": 0,
      "outputs": []
    }
  ]
}