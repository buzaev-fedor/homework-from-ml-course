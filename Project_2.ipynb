{
  "nbformat": 4,
  "nbformat_minor": 0,
  "metadata": {
    "colab": {
      "name": "Project 2.ipynb",
      "provenance": [],
      "collapsed_sections": [],
      "toc_visible": true,
      "authorship_tag": "ABX9TyPBIGyHZH0rdNgm79DVjeB5",
      "include_colab_link": true
    },
    "kernelspec": {
      "name": "python3",
      "display_name": "Python 3"
    }
  },
  "cells": [
    {
      "cell_type": "markdown",
      "metadata": {
        "id": "view-in-github",
        "colab_type": "text"
      },
      "source": [
        "<a href=\"https://colab.research.google.com/github/buzaev-fedor/project-from-ml-course/blob/master/Project_2.ipynb\" target=\"_parent\"><img src=\"https://colab.research.google.com/assets/colab-badge.svg\" alt=\"Open In Colab\"/></a>"
      ]
    },
    {
      "cell_type": "code",
      "metadata": {
        "id": "5-9BueUXRPsh",
        "colab_type": "code",
        "colab": {}
      },
      "source": [
        "# This Python 3 environment comes with many helpful analytics libraries installed\n",
        "# It is defined by the kaggle/python Docker image: https://github.com/kaggle/docker-python\n",
        "# For example, here's several helpful packages to load\n",
        "\n",
        "import numpy as np # linear algebra\n",
        "import pandas as pd # data processing, CSV file I/O (e.g. pd.read_csv)\n",
        "\n",
        "# Input data files are available in the read-only \"../input/\" directory\n",
        "# For example, running this (by clicking run or pressing Shift+Enter) will list all files under the input directory\n",
        "\n",
        "\n",
        "import os\n",
        "for dirname, _, filenames in os.walk('/kaggle/input'):\n",
        "    for filename in filenames:\n",
        "        print(os.path.join(dirname, filename))\n",
        "\n",
        "# You can write up to 5GB to the current directory (/kaggle/working/) that gets preserved as output when you create a version using \"Save & Run All\" \n",
        "# You can also write temporary files to /kaggle/temp/, but they won't be saved outside of the current session"
      ],
      "execution_count": 50,
      "outputs": []
    },
    {
      "cell_type": "code",
      "metadata": {
        "id": "IwoSn39OqwK-",
        "colab_type": "code",
        "colab": {}
      },
      "source": [
        "import seaborn as sns\n",
        "import matplotlib.pyplot as plt\n",
        "from sklearn.feature_extraction.text import TfidfVectorizer\n",
        "from sklearn.model_selection import train_test_split\n",
        "from sklearn.naive_bayes import MultinomialNB\n",
        "from sklearn.neighbors import KNeighborsClassifier\n",
        "from sklearn.metrics import classification_report"
      ],
      "execution_count": 84,
      "outputs": []
    },
    {
      "cell_type": "code",
      "metadata": {
        "id": "ihI7FhZXqytS",
        "colab_type": "code",
        "colab": {
          "base_uri": "https://localhost:8080/",
          "height": 36
        },
        "outputId": "ad8d1f11-4661-4be4-a24e-415417375938"
      },
      "source": [
        "from google.colab import drive\n",
        "drive.mount('/content/drive')"
      ],
      "execution_count": 52,
      "outputs": [
        {
          "output_type": "stream",
          "text": [
            "Drive already mounted at /content/drive; to attempt to forcibly remount, call drive.mount(\"/content/drive\", force_remount=True).\n"
          ],
          "name": "stdout"
        }
      ]
    },
    {
      "cell_type": "markdown",
      "metadata": {
        "id": "P_jm2hZwrAia",
        "colab_type": "text"
      },
      "source": [
        "## Download dataset from Kaggle"
      ]
    },
    {
      "cell_type": "code",
      "metadata": {
        "id": "PxKiqpQgq15N",
        "colab_type": "code",
        "colab": {
          "base_uri": "https://localhost:8080/",
          "height": 55
        },
        "outputId": "79c7021e-9d02-4a22-96ec-23c7b2a60253"
      },
      "source": [
        "# df = pd.read_csv(\"/kaggle/input/dataisbeautiful/r_dataisbeautiful_posts.csv\")\n",
        "df = pd.read_csv('/content/drive/My Drive/Colab Notebooks/r_dataisbeautiful_posts.csv')"
      ],
      "execution_count": 53,
      "outputs": [
        {
          "output_type": "stream",
          "text": [
            "/usr/local/lib/python3.6/dist-packages/IPython/core/interactiveshell.py:2718: DtypeWarning: Columns (5,7) have mixed types.Specify dtype option on import or set low_memory=False.\n",
            "  interactivity=interactivity, compiler=compiler, result=result)\n"
          ],
          "name": "stderr"
        }
      ]
    },
    {
      "cell_type": "code",
      "metadata": {
        "id": "6MVL7nKkrDcS",
        "colab_type": "code",
        "colab": {
          "base_uri": "https://localhost:8080/",
          "height": 206
        },
        "outputId": "1cffcd7b-293d-4248-87df-bafec7fcd61e"
      },
      "source": [
        "# look dataframe\n",
        "df.head()"
      ],
      "execution_count": 54,
      "outputs": [
        {
          "output_type": "execute_result",
          "data": {
            "text/html": [
              "<div>\n",
              "<style scoped>\n",
              "    .dataframe tbody tr th:only-of-type {\n",
              "        vertical-align: middle;\n",
              "    }\n",
              "\n",
              "    .dataframe tbody tr th {\n",
              "        vertical-align: top;\n",
              "    }\n",
              "\n",
              "    .dataframe thead th {\n",
              "        text-align: right;\n",
              "    }\n",
              "</style>\n",
              "<table border=\"1\" class=\"dataframe\">\n",
              "  <thead>\n",
              "    <tr style=\"text-align: right;\">\n",
              "      <th></th>\n",
              "      <th>id</th>\n",
              "      <th>title</th>\n",
              "      <th>score</th>\n",
              "      <th>author</th>\n",
              "      <th>author_flair_text</th>\n",
              "      <th>removed_by</th>\n",
              "      <th>total_awards_received</th>\n",
              "      <th>awarders</th>\n",
              "      <th>created_utc</th>\n",
              "      <th>full_link</th>\n",
              "      <th>num_comments</th>\n",
              "      <th>over_18</th>\n",
              "    </tr>\n",
              "  </thead>\n",
              "  <tbody>\n",
              "    <tr>\n",
              "      <th>0</th>\n",
              "      <td>hbyv2e</td>\n",
              "      <td>[OC] How Bar Chart Race Animation Can be Creat...</td>\n",
              "      <td>1</td>\n",
              "      <td>Tom10AE</td>\n",
              "      <td>NaN</td>\n",
              "      <td>NaN</td>\n",
              "      <td>0.0</td>\n",
              "      <td>[]</td>\n",
              "      <td>1592565317</td>\n",
              "      <td>https://www.reddit.com/r/dataisbeautiful/comme...</td>\n",
              "      <td>0</td>\n",
              "      <td>False</td>\n",
              "    </tr>\n",
              "    <tr>\n",
              "      <th>1</th>\n",
              "      <td>hbynoy</td>\n",
              "      <td>[UK] Labour and Conservative vote share by age...</td>\n",
              "      <td>1</td>\n",
              "      <td>Ge0rgeBr0ughton</td>\n",
              "      <td>NaN</td>\n",
              "      <td>NaN</td>\n",
              "      <td>0.0</td>\n",
              "      <td>[]</td>\n",
              "      <td>1592564316</td>\n",
              "      <td>https://www.reddit.com/r/dataisbeautiful/comme...</td>\n",
              "      <td>1</td>\n",
              "      <td>False</td>\n",
              "    </tr>\n",
              "    <tr>\n",
              "      <th>2</th>\n",
              "      <td>hbym2y</td>\n",
              "      <td>[NOC] Number of wallets returned across the wo...</td>\n",
              "      <td>1</td>\n",
              "      <td>i_am_shattered</td>\n",
              "      <td>NaN</td>\n",
              "      <td>NaN</td>\n",
              "      <td>0.0</td>\n",
              "      <td>[]</td>\n",
              "      <td>1592564089</td>\n",
              "      <td>https://www.reddit.com/r/dataisbeautiful/comme...</td>\n",
              "      <td>1</td>\n",
              "      <td>False</td>\n",
              "    </tr>\n",
              "    <tr>\n",
              "      <th>3</th>\n",
              "      <td>hbyirw</td>\n",
              "      <td>Largest Banana Producing Countries (1961-2020)...</td>\n",
              "      <td>1</td>\n",
              "      <td>Bilal078692</td>\n",
              "      <td>NaN</td>\n",
              "      <td>moderator</td>\n",
              "      <td>0.0</td>\n",
              "      <td>[]</td>\n",
              "      <td>1592563628</td>\n",
              "      <td>https://www.reddit.com/r/dataisbeautiful/comme...</td>\n",
              "      <td>0</td>\n",
              "      <td>False</td>\n",
              "    </tr>\n",
              "    <tr>\n",
              "      <th>4</th>\n",
              "      <td>hby1fy</td>\n",
              "      <td>[OC] Popular Combinations for the StamiStudios...</td>\n",
              "      <td>1</td>\n",
              "      <td>shahinrostami</td>\n",
              "      <td>Viz Researcher</td>\n",
              "      <td>NaN</td>\n",
              "      <td>0.0</td>\n",
              "      <td>[]</td>\n",
              "      <td>1592561119</td>\n",
              "      <td>https://www.reddit.com/r/dataisbeautiful/comme...</td>\n",
              "      <td>2</td>\n",
              "      <td>False</td>\n",
              "    </tr>\n",
              "  </tbody>\n",
              "</table>\n",
              "</div>"
            ],
            "text/plain": [
              "       id  ... over_18\n",
              "0  hbyv2e  ...   False\n",
              "1  hbynoy  ...   False\n",
              "2  hbym2y  ...   False\n",
              "3  hbyirw  ...   False\n",
              "4  hby1fy  ...   False\n",
              "\n",
              "[5 rows x 12 columns]"
            ]
          },
          "metadata": {
            "tags": []
          },
          "execution_count": 54
        }
      ]
    },
    {
      "cell_type": "markdown",
      "metadata": {
        "id": "OqYzX3E0vI4F",
        "colab_type": "text"
      },
      "source": [
        "# Preprocessing"
      ]
    },
    {
      "cell_type": "markdown",
      "metadata": {
        "id": "6A0rBFrOvTXr",
        "colab_type": "text"
      },
      "source": [
        "### Look null values in dataframe"
      ]
    },
    {
      "cell_type": "code",
      "metadata": {
        "id": "PDE8Ddy8rGJw",
        "colab_type": "code",
        "colab": {
          "base_uri": "https://localhost:8080/",
          "height": 697
        },
        "outputId": "1f2e8d8d-0682-41c8-ab85-8c366a6abcac"
      },
      "source": [
        "fig, ax = plt.subplots(figsize=(14,10))\n",
        "sns.heatmap(df.isnull(), cbar=False, cmap=\"YlGnBu_r\")\n",
        "plt.show()"
      ],
      "execution_count": 55,
      "outputs": [
        {
          "output_type": "display_data",
          "data": {
            "image/png": "[encoded data removed]",
            "text/plain": [
              "<Figure size 1008x720 with 1 Axes>"
            ]
          },
          "metadata": {
            "tags": [],
            "needs_background": "light"
          }
        }
      ]
    },
    {
      "cell_type": "markdown",
      "metadata": {
        "id": "jFrHF39CwKtQ",
        "colab_type": "text"
      },
      "source": [
        "### Delete unnecessary columns"
      ]
    },
    {
      "cell_type": "code",
      "metadata": {
        "id": "0eSQ2aSYwKBo",
        "colab_type": "code",
        "colab": {}
      },
      "source": [
        "del df[\"author_flair_text\"]\n",
        "del df[\"removed_by\"]\n",
        "del df[\"total_awards_received\"]\n",
        "del df[\"awarders\"]\n",
        "del df[\"created_utc\"]\n",
        "del df[\"full_link\"]\n",
        "del df[\"id\"]"
      ],
      "execution_count": 56,
      "outputs": []
    },
    {
      "cell_type": "code",
      "metadata": {
        "id": "aTZJ8fJTXMZY",
        "colab_type": "code",
        "colab": {
          "base_uri": "https://localhost:8080/",
          "height": 206
        },
        "outputId": "dd9472cc-8f7f-4c92-e012-9b578fe9d0f9"
      },
      "source": [
        "df.head()"
      ],
      "execution_count": 57,
      "outputs": [
        {
          "output_type": "execute_result",
          "data": {
            "text/html": [
              "<div>\n",
              "<style scoped>\n",
              "    .dataframe tbody tr th:only-of-type {\n",
              "        vertical-align: middle;\n",
              "    }\n",
              "\n",
              "    .dataframe tbody tr th {\n",
              "        vertical-align: top;\n",
              "    }\n",
              "\n",
              "    .dataframe thead th {\n",
              "        text-align: right;\n",
              "    }\n",
              "</style>\n",
              "<table border=\"1\" class=\"dataframe\">\n",
              "  <thead>\n",
              "    <tr style=\"text-align: right;\">\n",
              "      <th></th>\n",
              "      <th>title</th>\n",
              "      <th>score</th>\n",
              "      <th>author</th>\n",
              "      <th>num_comments</th>\n",
              "      <th>over_18</th>\n",
              "    </tr>\n",
              "  </thead>\n",
              "  <tbody>\n",
              "    <tr>\n",
              "      <th>0</th>\n",
              "      <td>[OC] How Bar Chart Race Animation Can be Creat...</td>\n",
              "      <td>1</td>\n",
              "      <td>Tom10AE</td>\n",
              "      <td>0</td>\n",
              "      <td>False</td>\n",
              "    </tr>\n",
              "    <tr>\n",
              "      <th>1</th>\n",
              "      <td>[UK] Labour and Conservative vote share by age...</td>\n",
              "      <td>1</td>\n",
              "      <td>Ge0rgeBr0ughton</td>\n",
              "      <td>1</td>\n",
              "      <td>False</td>\n",
              "    </tr>\n",
              "    <tr>\n",
              "      <th>2</th>\n",
              "      <td>[NOC] Number of wallets returned across the wo...</td>\n",
              "      <td>1</td>\n",
              "      <td>i_am_shattered</td>\n",
              "      <td>1</td>\n",
              "      <td>False</td>\n",
              "    </tr>\n",
              "    <tr>\n",
              "      <th>3</th>\n",
              "      <td>Largest Banana Producing Countries (1961-2020)...</td>\n",
              "      <td>1</td>\n",
              "      <td>Bilal078692</td>\n",
              "      <td>0</td>\n",
              "      <td>False</td>\n",
              "    </tr>\n",
              "    <tr>\n",
              "      <th>4</th>\n",
              "      <td>[OC] Popular Combinations for the StamiStudios...</td>\n",
              "      <td>1</td>\n",
              "      <td>shahinrostami</td>\n",
              "      <td>2</td>\n",
              "      <td>False</td>\n",
              "    </tr>\n",
              "  </tbody>\n",
              "</table>\n",
              "</div>"
            ],
            "text/plain": [
              "                                               title  ...  over_18\n",
              "0  [OC] How Bar Chart Race Animation Can be Creat...  ...    False\n",
              "1  [UK] Labour and Conservative vote share by age...  ...    False\n",
              "2  [NOC] Number of wallets returned across the wo...  ...    False\n",
              "3  Largest Banana Producing Countries (1961-2020)...  ...    False\n",
              "4  [OC] Popular Combinations for the StamiStudios...  ...    False\n",
              "\n",
              "[5 rows x 5 columns]"
            ]
          },
          "metadata": {
            "tags": []
          },
          "execution_count": 57
        }
      ]
    },
    {
      "cell_type": "code",
      "metadata": {
        "id": "yH-2C_qrcqFk",
        "colab_type": "code",
        "colab": {
          "base_uri": "https://localhost:8080/",
          "height": 243
        },
        "outputId": "7ef35d98-f454-4e34-919f-3c3866307d52"
      },
      "source": [
        "df.info()"
      ],
      "execution_count": 58,
      "outputs": [
        {
          "output_type": "stream",
          "text": [
            "<class 'pandas.core.frame.DataFrame'>\n",
            "RangeIndex: 183891 entries, 0 to 183890\n",
            "Data columns (total 5 columns):\n",
            " #   Column        Non-Null Count   Dtype \n",
            "---  ------        --------------   ----- \n",
            " 0   title         183890 non-null  object\n",
            " 1   score         183891 non-null  int64 \n",
            " 2   author        183891 non-null  object\n",
            " 3   num_comments  183891 non-null  int64 \n",
            " 4   over_18       183891 non-null  bool  \n",
            "dtypes: bool(1), int64(2), object(2)\n",
            "memory usage: 5.8+ MB\n"
          ],
          "name": "stdout"
        }
      ]
    },
    {
      "cell_type": "code",
      "metadata": {
        "id": "Ys8hkcTvaurH",
        "colab_type": "code",
        "colab": {}
      },
      "source": [
        "df.title.fillna(\" \",inplace = True)"
      ],
      "execution_count": 59,
      "outputs": []
    },
    {
      "cell_type": "code",
      "metadata": {
        "id": "lO3h7W9qY5qc",
        "colab_type": "code",
        "colab": {
          "base_uri": "https://localhost:8080/",
          "height": 340
        },
        "outputId": "33156206-1c7a-4851-91b5-6408e293d165"
      },
      "source": [
        "print(df[\"over_18\"].value_counts())\n",
        "sns.barplot(df[\"over_18\"].value_counts().index, df[\"over_18\"].value_counts().values)\n",
        "print(round(df[\"over_18\"][df[\"over_18\"] == True].shape[0]/len(df), 2))"
      ],
      "execution_count": 60,
      "outputs": [
        {
          "output_type": "stream",
          "text": [
            "False    182948\n",
            "True        943\n",
            "Name: over_18, dtype: int64\n",
            "0.01\n"
          ],
          "name": "stdout"
        },
        {
          "output_type": "display_data",
          "data": {
            "image/png": "[encoded data removed]",
            "text/plain": [
              "<Figure size 432x288 with 1 Axes>"
            ]
          },
          "metadata": {
            "tags": [],
            "needs_background": "light"
          }
        }
      ]
    },
    {
      "cell_type": "markdown",
      "metadata": {
        "id": "aWQ3MZ2Mcu1J",
        "colab_type": "text"
      },
      "source": [
        "Data isn't balanced."
      ]
    },
    {
      "cell_type": "markdown",
      "metadata": {
        "id": "qMiIviEedtVn",
        "colab_type": "text"
      },
      "source": [
        "### Lower the text"
      ]
    },
    {
      "cell_type": "code",
      "metadata": {
        "id": "jDxsoLgTeM1D",
        "colab_type": "code",
        "colab": {}
      },
      "source": [
        "import string\n",
        "# realization preprocessing\n",
        "def preprocess(doc):\n",
        "    # lower the text\n",
        "    doc = doc.lower()\n",
        "    # remove punctuation, spaces, etc.\n",
        "    for p in string.punctuation + string.whitespace:\n",
        "        doc = doc.replace(p, ' ')\n",
        "    # remove extra spaces, merge back\n",
        "    doc = doc.strip()\n",
        "    doc = ' '.join([w for w in doc.split(' ') if w != ''])\n",
        "    return doc"
      ],
      "execution_count": 61,
      "outputs": []
    },
    {
      "cell_type": "markdown",
      "metadata": {
        "id": "3KWJcQCyjpim",
        "colab_type": "text"
      },
      "source": [
        "#### Check DataFrame"
      ]
    },
    {
      "cell_type": "code",
      "metadata": {
        "id": "oFPfTWxQifOF",
        "colab_type": "code",
        "colab": {
          "base_uri": "https://localhost:8080/",
          "height": 206
        },
        "outputId": "f1d86358-5de7-4098-f01a-98814a46cbb1"
      },
      "source": [
        "for colname in df.select_dtypes(include= np.object).columns:\n",
        "    df[colname] = df[colname].map(preprocess)\n",
        "df.head()"
      ],
      "execution_count": 62,
      "outputs": [
        {
          "output_type": "execute_result",
          "data": {
            "text/html": [
              "<div>\n",
              "<style scoped>\n",
              "    .dataframe tbody tr th:only-of-type {\n",
              "        vertical-align: middle;\n",
              "    }\n",
              "\n",
              "    .dataframe tbody tr th {\n",
              "        vertical-align: top;\n",
              "    }\n",
              "\n",
              "    .dataframe thead th {\n",
              "        text-align: right;\n",
              "    }\n",
              "</style>\n",
              "<table border=\"1\" class=\"dataframe\">\n",
              "  <thead>\n",
              "    <tr style=\"text-align: right;\">\n",
              "      <th></th>\n",
              "      <th>title</th>\n",
              "      <th>score</th>\n",
              "      <th>author</th>\n",
              "      <th>num_comments</th>\n",
              "      <th>over_18</th>\n",
              "    </tr>\n",
              "  </thead>\n",
              "  <tbody>\n",
              "    <tr>\n",
              "      <th>0</th>\n",
              "      <td>oc how bar chart race animation can be created...</td>\n",
              "      <td>1</td>\n",
              "      <td>tom10ae</td>\n",
              "      <td>0</td>\n",
              "      <td>False</td>\n",
              "    </tr>\n",
              "    <tr>\n",
              "      <th>1</th>\n",
              "      <td>uk labour and conservative vote share by age g...</td>\n",
              "      <td>1</td>\n",
              "      <td>ge0rgebr0ughton</td>\n",
              "      <td>1</td>\n",
              "      <td>False</td>\n",
              "    </tr>\n",
              "    <tr>\n",
              "      <th>2</th>\n",
              "      <td>noc number of wallets returned across the world</td>\n",
              "      <td>1</td>\n",
              "      <td>i am shattered</td>\n",
              "      <td>1</td>\n",
              "      <td>False</td>\n",
              "    </tr>\n",
              "    <tr>\n",
              "      <th>3</th>\n",
              "      <td>largest banana producing countries 1961 2020 oc</td>\n",
              "      <td>1</td>\n",
              "      <td>bilal078692</td>\n",
              "      <td>0</td>\n",
              "      <td>False</td>\n",
              "    </tr>\n",
              "    <tr>\n",
              "      <th>4</th>\n",
              "      <td>oc popular combinations for the stamistudios e...</td>\n",
              "      <td>1</td>\n",
              "      <td>shahinrostami</td>\n",
              "      <td>2</td>\n",
              "      <td>False</td>\n",
              "    </tr>\n",
              "  </tbody>\n",
              "</table>\n",
              "</div>"
            ],
            "text/plain": [
              "                                               title  ...  over_18\n",
              "0  oc how bar chart race animation can be created...  ...    False\n",
              "1  uk labour and conservative vote share by age g...  ...    False\n",
              "2    noc number of wallets returned across the world  ...    False\n",
              "3    largest banana producing countries 1961 2020 oc  ...    False\n",
              "4  oc popular combinations for the stamistudios e...  ...    False\n",
              "\n",
              "[5 rows x 5 columns]"
            ]
          },
          "metadata": {
            "tags": []
          },
          "execution_count": 62
        }
      ]
    },
    {
      "cell_type": "code",
      "metadata": {
        "id": "GDq_2MIOuDWW",
        "colab_type": "code",
        "colab": {}
      },
      "source": [
        "df['over_18'] = df['over_18'].map({True: 1, False: 0}).values"
      ],
      "execution_count": 63,
      "outputs": []
    },
    {
      "cell_type": "code",
      "metadata": {
        "id": "2rYb6NTouPj3",
        "colab_type": "code",
        "colab": {
          "base_uri": "https://localhost:8080/",
          "height": 206
        },
        "outputId": "aa675e3c-accd-4dc5-e336-042b84a99b2b"
      },
      "source": [
        "df.head()"
      ],
      "execution_count": 64,
      "outputs": [
        {
          "output_type": "execute_result",
          "data": {
            "text/html": [
              "<div>\n",
              "<style scoped>\n",
              "    .dataframe tbody tr th:only-of-type {\n",
              "        vertical-align: middle;\n",
              "    }\n",
              "\n",
              "    .dataframe tbody tr th {\n",
              "        vertical-align: top;\n",
              "    }\n",
              "\n",
              "    .dataframe thead th {\n",
              "        text-align: right;\n",
              "    }\n",
              "</style>\n",
              "<table border=\"1\" class=\"dataframe\">\n",
              "  <thead>\n",
              "    <tr style=\"text-align: right;\">\n",
              "      <th></th>\n",
              "      <th>title</th>\n",
              "      <th>score</th>\n",
              "      <th>author</th>\n",
              "      <th>num_comments</th>\n",
              "      <th>over_18</th>\n",
              "    </tr>\n",
              "  </thead>\n",
              "  <tbody>\n",
              "    <tr>\n",
              "      <th>0</th>\n",
              "      <td>oc how bar chart race animation can be created...</td>\n",
              "      <td>1</td>\n",
              "      <td>tom10ae</td>\n",
              "      <td>0</td>\n",
              "      <td>0</td>\n",
              "    </tr>\n",
              "    <tr>\n",
              "      <th>1</th>\n",
              "      <td>uk labour and conservative vote share by age g...</td>\n",
              "      <td>1</td>\n",
              "      <td>ge0rgebr0ughton</td>\n",
              "      <td>1</td>\n",
              "      <td>0</td>\n",
              "    </tr>\n",
              "    <tr>\n",
              "      <th>2</th>\n",
              "      <td>noc number of wallets returned across the world</td>\n",
              "      <td>1</td>\n",
              "      <td>i am shattered</td>\n",
              "      <td>1</td>\n",
              "      <td>0</td>\n",
              "    </tr>\n",
              "    <tr>\n",
              "      <th>3</th>\n",
              "      <td>largest banana producing countries 1961 2020 oc</td>\n",
              "      <td>1</td>\n",
              "      <td>bilal078692</td>\n",
              "      <td>0</td>\n",
              "      <td>0</td>\n",
              "    </tr>\n",
              "    <tr>\n",
              "      <th>4</th>\n",
              "      <td>oc popular combinations for the stamistudios e...</td>\n",
              "      <td>1</td>\n",
              "      <td>shahinrostami</td>\n",
              "      <td>2</td>\n",
              "      <td>0</td>\n",
              "    </tr>\n",
              "  </tbody>\n",
              "</table>\n",
              "</div>"
            ],
            "text/plain": [
              "                                               title  ...  over_18\n",
              "0  oc how bar chart race animation can be created...  ...        0\n",
              "1  uk labour and conservative vote share by age g...  ...        0\n",
              "2    noc number of wallets returned across the world  ...        0\n",
              "3    largest banana producing countries 1961 2020 oc  ...        0\n",
              "4  oc popular combinations for the stamistudios e...  ...        0\n",
              "\n",
              "[5 rows x 5 columns]"
            ]
          },
          "metadata": {
            "tags": []
          },
          "execution_count": 64
        }
      ]
    },
    {
      "cell_type": "code",
      "metadata": {
        "id": "VpjYNiVpvStU",
        "colab_type": "code",
        "colab": {
          "base_uri": "https://localhost:8080/",
          "height": 36
        },
        "outputId": "8f52a3b4-553b-4c92-96d6-e14b8a6ff272"
      },
      "source": [
        "lenTrue = int(1/3*df.over_18.value_counts().values[0])\n",
        "lenTrue"
      ],
      "execution_count": 65,
      "outputs": [
        {
          "output_type": "execute_result",
          "data": {
            "text/plain": [
              "60982"
            ]
          },
          "metadata": {
            "tags": []
          },
          "execution_count": 65
        }
      ]
    },
    {
      "cell_type": "code",
      "metadata": {
        "id": "uBRK9Ms7ycnN",
        "colab_type": "code",
        "colab": {
          "base_uri": "https://localhost:8080/",
          "height": 74
        },
        "outputId": "ab5294ff-15b8-409a-ecef-aba5bb9cfbd6"
      },
      "source": [
        "df.over_18.value_counts()"
      ],
      "execution_count": 66,
      "outputs": [
        {
          "output_type": "execute_result",
          "data": {
            "text/plain": [
              "0    182948\n",
              "1       943\n",
              "Name: over_18, dtype: int64"
            ]
          },
          "metadata": {
            "tags": []
          },
          "execution_count": 66
        }
      ]
    },
    {
      "cell_type": "markdown",
      "metadata": {
        "id": "dPvQY0Ntj4oz",
        "colab_type": "text"
      },
      "source": [
        "### Sample new values"
      ]
    },
    {
      "cell_type": "code",
      "metadata": {
        "id": "sfCDe_3It2aI",
        "colab_type": "code",
        "colab": {}
      },
      "source": [
        "df2 = df[df['over_18'] == 1].sample(n = 60982, replace=True)"
      ],
      "execution_count": 67,
      "outputs": []
    },
    {
      "cell_type": "code",
      "metadata": {
        "id": "DNkYuAWEy-M9",
        "colab_type": "code",
        "colab": {}
      },
      "source": [
        "df = df.append(df2, ignore_index=True)"
      ],
      "execution_count": 68,
      "outputs": []
    },
    {
      "cell_type": "code",
      "metadata": {
        "id": "jbEt4SayyoSk",
        "colab_type": "code",
        "colab": {
          "base_uri": "https://localhost:8080/",
          "height": 206
        },
        "outputId": "928f3550-58da-4031-e706-e47c775761a1"
      },
      "source": [
        "df.head()"
      ],
      "execution_count": 69,
      "outputs": [
        {
          "output_type": "execute_result",
          "data": {
            "text/html": [
              "<div>\n",
              "<style scoped>\n",
              "    .dataframe tbody tr th:only-of-type {\n",
              "        vertical-align: middle;\n",
              "    }\n",
              "\n",
              "    .dataframe tbody tr th {\n",
              "        vertical-align: top;\n",
              "    }\n",
              "\n",
              "    .dataframe thead th {\n",
              "        text-align: right;\n",
              "    }\n",
              "</style>\n",
              "<table border=\"1\" class=\"dataframe\">\n",
              "  <thead>\n",
              "    <tr style=\"text-align: right;\">\n",
              "      <th></th>\n",
              "      <th>title</th>\n",
              "      <th>score</th>\n",
              "      <th>author</th>\n",
              "      <th>num_comments</th>\n",
              "      <th>over_18</th>\n",
              "    </tr>\n",
              "  </thead>\n",
              "  <tbody>\n",
              "    <tr>\n",
              "      <th>0</th>\n",
              "      <td>oc how bar chart race animation can be created...</td>\n",
              "      <td>1</td>\n",
              "      <td>tom10ae</td>\n",
              "      <td>0</td>\n",
              "      <td>0</td>\n",
              "    </tr>\n",
              "    <tr>\n",
              "      <th>1</th>\n",
              "      <td>uk labour and conservative vote share by age g...</td>\n",
              "      <td>1</td>\n",
              "      <td>ge0rgebr0ughton</td>\n",
              "      <td>1</td>\n",
              "      <td>0</td>\n",
              "    </tr>\n",
              "    <tr>\n",
              "      <th>2</th>\n",
              "      <td>noc number of wallets returned across the world</td>\n",
              "      <td>1</td>\n",
              "      <td>i am shattered</td>\n",
              "      <td>1</td>\n",
              "      <td>0</td>\n",
              "    </tr>\n",
              "    <tr>\n",
              "      <th>3</th>\n",
              "      <td>largest banana producing countries 1961 2020 oc</td>\n",
              "      <td>1</td>\n",
              "      <td>bilal078692</td>\n",
              "      <td>0</td>\n",
              "      <td>0</td>\n",
              "    </tr>\n",
              "    <tr>\n",
              "      <th>4</th>\n",
              "      <td>oc popular combinations for the stamistudios e...</td>\n",
              "      <td>1</td>\n",
              "      <td>shahinrostami</td>\n",
              "      <td>2</td>\n",
              "      <td>0</td>\n",
              "    </tr>\n",
              "  </tbody>\n",
              "</table>\n",
              "</div>"
            ],
            "text/plain": [
              "                                               title  ...  over_18\n",
              "0  oc how bar chart race animation can be created...  ...        0\n",
              "1  uk labour and conservative vote share by age g...  ...        0\n",
              "2    noc number of wallets returned across the world  ...        0\n",
              "3    largest banana producing countries 1961 2020 oc  ...        0\n",
              "4  oc popular combinations for the stamistudios e...  ...        0\n",
              "\n",
              "[5 rows x 5 columns]"
            ]
          },
          "metadata": {
            "tags": []
          },
          "execution_count": 69
        }
      ]
    },
    {
      "cell_type": "code",
      "metadata": {
        "id": "6SISy9znya0o",
        "colab_type": "code",
        "colab": {
          "base_uri": "https://localhost:8080/",
          "height": 74
        },
        "outputId": "7a7a817e-24ec-48c0-bdb2-38c01929d27d"
      },
      "source": [
        "df.over_18.value_counts()"
      ],
      "execution_count": 70,
      "outputs": [
        {
          "output_type": "execute_result",
          "data": {
            "text/plain": [
              "0    182948\n",
              "1     61925\n",
              "Name: over_18, dtype: int64"
            ]
          },
          "metadata": {
            "tags": []
          },
          "execution_count": 70
        }
      ]
    },
    {
      "cell_type": "code",
      "metadata": {
        "id": "_I_W9R0qzMW0",
        "colab_type": "code",
        "colab": {}
      },
      "source": [
        "df = df.sample(frac=1).reset_index(drop=True)"
      ],
      "execution_count": 71,
      "outputs": []
    },
    {
      "cell_type": "code",
      "metadata": {
        "id": "DBR-Xhe5ziFn",
        "colab_type": "code",
        "colab": {
          "base_uri": "https://localhost:8080/",
          "height": 206
        },
        "outputId": "8ee61e30-336c-4c86-f5d9-6baf0ccd5c76"
      },
      "source": [
        "df.head()"
      ],
      "execution_count": 72,
      "outputs": [
        {
          "output_type": "execute_result",
          "data": {
            "text/html": [
              "<div>\n",
              "<style scoped>\n",
              "    .dataframe tbody tr th:only-of-type {\n",
              "        vertical-align: middle;\n",
              "    }\n",
              "\n",
              "    .dataframe tbody tr th {\n",
              "        vertical-align: top;\n",
              "    }\n",
              "\n",
              "    .dataframe thead th {\n",
              "        text-align: right;\n",
              "    }\n",
              "</style>\n",
              "<table border=\"1\" class=\"dataframe\">\n",
              "  <thead>\n",
              "    <tr style=\"text-align: right;\">\n",
              "      <th></th>\n",
              "      <th>title</th>\n",
              "      <th>score</th>\n",
              "      <th>author</th>\n",
              "      <th>num_comments</th>\n",
              "      <th>over_18</th>\n",
              "    </tr>\n",
              "  </thead>\n",
              "  <tbody>\n",
              "    <tr>\n",
              "      <th>0</th>\n",
              "      <td>i overlayed 90 of my classmates faces together...</td>\n",
              "      <td>22</td>\n",
              "      <td>mysteroo</td>\n",
              "      <td>9</td>\n",
              "      <td>0</td>\n",
              "    </tr>\n",
              "    <tr>\n",
              "      <th>1</th>\n",
              "      <td>oc my tinder data how many and which way i swi...</td>\n",
              "      <td>0</td>\n",
              "      <td>espenbirch</td>\n",
              "      <td>13</td>\n",
              "      <td>1</td>\n",
              "    </tr>\n",
              "    <tr>\n",
              "      <th>2</th>\n",
              "      <td>james charles losing subscribers</td>\n",
              "      <td>1</td>\n",
              "      <td>shortyjuice</td>\n",
              "      <td>1</td>\n",
              "      <td>0</td>\n",
              "    </tr>\n",
              "    <tr>\n",
              "      <th>3</th>\n",
              "      <td>marvel vs dc most money grossing movies 💵</td>\n",
              "      <td>1</td>\n",
              "      <td>32pratik32</td>\n",
              "      <td>0</td>\n",
              "      <td>0</td>\n",
              "    </tr>\n",
              "    <tr>\n",
              "      <th>4</th>\n",
              "      <td>a brief look at possible effects of right to w...</td>\n",
              "      <td>11</td>\n",
              "      <td>bryanmaloney</td>\n",
              "      <td>7</td>\n",
              "      <td>0</td>\n",
              "    </tr>\n",
              "  </tbody>\n",
              "</table>\n",
              "</div>"
            ],
            "text/plain": [
              "                                               title  ...  over_18\n",
              "0  i overlayed 90 of my classmates faces together...  ...        0\n",
              "1  oc my tinder data how many and which way i swi...  ...        1\n",
              "2                   james charles losing subscribers  ...        0\n",
              "3          marvel vs dc most money grossing movies 💵  ...        0\n",
              "4  a brief look at possible effects of right to w...  ...        0\n",
              "\n",
              "[5 rows x 5 columns]"
            ]
          },
          "metadata": {
            "tags": []
          },
          "execution_count": 72
        }
      ]
    },
    {
      "cell_type": "code",
      "metadata": {
        "id": "wa-yLx-yL_31",
        "colab_type": "code",
        "colab": {
          "base_uri": "https://localhost:8080/",
          "height": 36
        },
        "outputId": "b13f6c5a-3090-48c2-9ab1-85917f8fc94b"
      },
      "source": [
        "y = df['over_18'].map({True: 1, False: 0}).values\n",
        "y"
      ],
      "execution_count": 73,
      "outputs": [
        {
          "output_type": "execute_result",
          "data": {
            "text/plain": [
              "array([0, 1, 0, ..., 0, 0, 0])"
            ]
          },
          "metadata": {
            "tags": []
          },
          "execution_count": 73
        }
      ]
    },
    {
      "cell_type": "code",
      "metadata": {
        "id": "15bCq_xaj6gB",
        "colab_type": "code",
        "colab": {
          "base_uri": "https://localhost:8080/",
          "height": 206
        },
        "outputId": "03cea912-22c2-4889-93db-5d2f5e515411"
      },
      "source": [
        "df.drop(['over_18'], axis = 1, inplace=True)\n",
        "df.head()"
      ],
      "execution_count": 74,
      "outputs": [
        {
          "output_type": "execute_result",
          "data": {
            "text/html": [
              "<div>\n",
              "<style scoped>\n",
              "    .dataframe tbody tr th:only-of-type {\n",
              "        vertical-align: middle;\n",
              "    }\n",
              "\n",
              "    .dataframe tbody tr th {\n",
              "        vertical-align: top;\n",
              "    }\n",
              "\n",
              "    .dataframe thead th {\n",
              "        text-align: right;\n",
              "    }\n",
              "</style>\n",
              "<table border=\"1\" class=\"dataframe\">\n",
              "  <thead>\n",
              "    <tr style=\"text-align: right;\">\n",
              "      <th></th>\n",
              "      <th>title</th>\n",
              "      <th>score</th>\n",
              "      <th>author</th>\n",
              "      <th>num_comments</th>\n",
              "    </tr>\n",
              "  </thead>\n",
              "  <tbody>\n",
              "    <tr>\n",
              "      <th>0</th>\n",
              "      <td>i overlayed 90 of my classmates faces together...</td>\n",
              "      <td>22</td>\n",
              "      <td>mysteroo</td>\n",
              "      <td>9</td>\n",
              "    </tr>\n",
              "    <tr>\n",
              "      <th>1</th>\n",
              "      <td>oc my tinder data how many and which way i swi...</td>\n",
              "      <td>0</td>\n",
              "      <td>espenbirch</td>\n",
              "      <td>13</td>\n",
              "    </tr>\n",
              "    <tr>\n",
              "      <th>2</th>\n",
              "      <td>james charles losing subscribers</td>\n",
              "      <td>1</td>\n",
              "      <td>shortyjuice</td>\n",
              "      <td>1</td>\n",
              "    </tr>\n",
              "    <tr>\n",
              "      <th>3</th>\n",
              "      <td>marvel vs dc most money grossing movies 💵</td>\n",
              "      <td>1</td>\n",
              "      <td>32pratik32</td>\n",
              "      <td>0</td>\n",
              "    </tr>\n",
              "    <tr>\n",
              "      <th>4</th>\n",
              "      <td>a brief look at possible effects of right to w...</td>\n",
              "      <td>11</td>\n",
              "      <td>bryanmaloney</td>\n",
              "      <td>7</td>\n",
              "    </tr>\n",
              "  </tbody>\n",
              "</table>\n",
              "</div>"
            ],
            "text/plain": [
              "                                               title  ...  num_comments\n",
              "0  i overlayed 90 of my classmates faces together...  ...             9\n",
              "1  oc my tinder data how many and which way i swi...  ...            13\n",
              "2                   james charles losing subscribers  ...             1\n",
              "3          marvel vs dc most money grossing movies 💵  ...             0\n",
              "4  a brief look at possible effects of right to w...  ...             7\n",
              "\n",
              "[5 rows x 4 columns]"
            ]
          },
          "metadata": {
            "tags": []
          },
          "execution_count": 74
        }
      ]
    },
    {
      "cell_type": "markdown",
      "metadata": {
        "id": "LRU-vZDSNWwA",
        "colab_type": "text"
      },
      "source": [
        "### Train-test split"
      ]
    },
    {
      "cell_type": "code",
      "metadata": {
        "id": "-oCdv8ONMXyO",
        "colab_type": "code",
        "colab": {}
      },
      "source": [
        "X = df"
      ],
      "execution_count": 75,
      "outputs": []
    },
    {
      "cell_type": "code",
      "metadata": {
        "id": "I6cNTWqSJBt0",
        "colab_type": "code",
        "colab": {}
      },
      "source": [
        "from sklearn.model_selection import train_test_split\n",
        "\n",
        "X_train, X_test, y_train, y_test = train_test_split(X, y, test_size=0.20, stratify = y)"
      ],
      "execution_count": 76,
      "outputs": []
    },
    {
      "cell_type": "code",
      "metadata": {
        "id": "YoICriywL6D5",
        "colab_type": "code",
        "colab": {
          "base_uri": "https://localhost:8080/",
          "height": 36
        },
        "outputId": "d4b8a5f3-6a8a-4b9f-e4b8-0083cc14d6eb"
      },
      "source": [
        "X_train.shape, X_test.shape"
      ],
      "execution_count": 77,
      "outputs": [
        {
          "output_type": "execute_result",
          "data": {
            "text/plain": [
              "((195898, 4), (48975, 4))"
            ]
          },
          "metadata": {
            "tags": []
          },
          "execution_count": 77
        }
      ]
    },
    {
      "cell_type": "code",
      "metadata": {
        "id": "lUUIP4u_L6AN",
        "colab_type": "code",
        "colab": {
          "base_uri": "https://localhost:8080/",
          "height": 36
        },
        "outputId": "b061bea2-2de3-4d95-a9a2-edb517faae14"
      },
      "source": [
        "y_train.shape, y_test.shape"
      ],
      "execution_count": 78,
      "outputs": [
        {
          "output_type": "execute_result",
          "data": {
            "text/plain": [
              "((195898,), (48975,))"
            ]
          },
          "metadata": {
            "tags": []
          },
          "execution_count": 78
        }
      ]
    },
    {
      "cell_type": "code",
      "metadata": {
        "id": "MNBqoSmxfrO2",
        "colab_type": "code",
        "colab": {
          "base_uri": "https://localhost:8080/",
          "height": 424
        },
        "outputId": "17a5d256-2de3-4ef6-ca29-0ea1b63d7e60"
      },
      "source": [
        "X_train"
      ],
      "execution_count": 79,
      "outputs": [
        {
          "output_type": "execute_result",
          "data": {
            "text/html": [
              "<div>\n",
              "<style scoped>\n",
              "    .dataframe tbody tr th:only-of-type {\n",
              "        vertical-align: middle;\n",
              "    }\n",
              "\n",
              "    .dataframe tbody tr th {\n",
              "        vertical-align: top;\n",
              "    }\n",
              "\n",
              "    .dataframe thead th {\n",
              "        text-align: right;\n",
              "    }\n",
              "</style>\n",
              "<table border=\"1\" class=\"dataframe\">\n",
              "  <thead>\n",
              "    <tr style=\"text-align: right;\">\n",
              "      <th></th>\n",
              "      <th>title</th>\n",
              "      <th>score</th>\n",
              "      <th>author</th>\n",
              "      <th>num_comments</th>\n",
              "    </tr>\n",
              "  </thead>\n",
              "  <tbody>\n",
              "    <tr>\n",
              "      <th>119703</th>\n",
              "      <td>the most searched terms on pornhub by state</td>\n",
              "      <td>5</td>\n",
              "      <td>scratchbomb</td>\n",
              "      <td>4</td>\n",
              "    </tr>\n",
              "    <tr>\n",
              "      <th>115447</th>\n",
              "      <td>dầu gội bằng vỏ bưởi</td>\n",
              "      <td>1</td>\n",
              "      <td>kienkhe123</td>\n",
              "      <td>1</td>\n",
              "    </tr>\n",
              "    <tr>\n",
              "      <th>216046</th>\n",
              "      <td>oc covid 19 total and daily deaths january 24 ...</td>\n",
              "      <td>1</td>\n",
              "      <td>nibatcat</td>\n",
              "      <td>3</td>\n",
              "    </tr>\n",
              "    <tr>\n",
              "      <th>118341</th>\n",
              "      <td>mapfight a system that visually compares two b...</td>\n",
              "      <td>2</td>\n",
              "      <td>kubrickismycopilot</td>\n",
              "      <td>0</td>\n",
              "    </tr>\n",
              "    <tr>\n",
              "      <th>57064</th>\n",
              "      <td>comparing ozone concentrations in manhattan an...</td>\n",
              "      <td>13</td>\n",
              "      <td>anguimorpha</td>\n",
              "      <td>10</td>\n",
              "    </tr>\n",
              "    <tr>\n",
              "      <th>...</th>\n",
              "      <td>...</td>\n",
              "      <td>...</td>\n",
              "      <td>...</td>\n",
              "      <td>...</td>\n",
              "    </tr>\n",
              "    <tr>\n",
              "      <th>195181</th>\n",
              "      <td>oc impact of covid 19 on number of daily unite...</td>\n",
              "      <td>1</td>\n",
              "      <td>tiek00n</td>\n",
              "      <td>1</td>\n",
              "    </tr>\n",
              "    <tr>\n",
              "      <th>49479</th>\n",
              "      <td>funny photo series shows chaotic life of a sta...</td>\n",
              "      <td>19</td>\n",
              "      <td>juliajon</td>\n",
              "      <td>0</td>\n",
              "    </tr>\n",
              "    <tr>\n",
              "      <th>239806</th>\n",
              "      <td>how to make a hit broadway show</td>\n",
              "      <td>14</td>\n",
              "      <td>jstuartmill</td>\n",
              "      <td>3</td>\n",
              "    </tr>\n",
              "    <tr>\n",
              "      <th>241247</th>\n",
              "      <td>pagi asia prajawangsa city hunian menawarkan y...</td>\n",
              "      <td>1</td>\n",
              "      <td>pagi asia</td>\n",
              "      <td>0</td>\n",
              "    </tr>\n",
              "    <tr>\n",
              "      <th>105604</th>\n",
              "      <td>number of people per supercomputer by country oc</td>\n",
              "      <td>823</td>\n",
              "      <td>cg</td>\n",
              "      <td>121</td>\n",
              "    </tr>\n",
              "  </tbody>\n",
              "</table>\n",
              "<p>195898 rows × 4 columns</p>\n",
              "</div>"
            ],
            "text/plain": [
              "                                                    title  ...  num_comments\n",
              "119703        the most searched terms on pornhub by state  ...             4\n",
              "115447                               dầu gội bằng vỏ bưởi  ...             1\n",
              "216046  oc covid 19 total and daily deaths january 24 ...  ...             3\n",
              "118341  mapfight a system that visually compares two b...  ...             0\n",
              "57064   comparing ozone concentrations in manhattan an...  ...            10\n",
              "...                                                   ...  ...           ...\n",
              "195181  oc impact of covid 19 on number of daily unite...  ...             1\n",
              "49479   funny photo series shows chaotic life of a sta...  ...             0\n",
              "239806                    how to make a hit broadway show  ...             3\n",
              "241247  pagi asia prajawangsa city hunian menawarkan y...  ...             0\n",
              "105604   number of people per supercomputer by country oc  ...           121\n",
              "\n",
              "[195898 rows x 4 columns]"
            ]
          },
          "metadata": {
            "tags": []
          },
          "execution_count": 79
        }
      ]
    },
    {
      "cell_type": "markdown",
      "metadata": {
        "id": "OiTKztSdN-RR",
        "colab_type": "text"
      },
      "source": [
        "## TF-IDF"
      ]
    },
    {
      "cell_type": "code",
      "metadata": {
        "id": "HS8hbO2LL586",
        "colab_type": "code",
        "colab": {}
      },
      "source": [
        "from sklearn.feature_extraction.stop_words import ENGLISH_STOP_WORDS\n",
        "from sklearn.feature_extraction.text import TfidfVectorizer\n",
        "vectorizer = TfidfVectorizer(stop_words = ENGLISH_STOP_WORDS, ngram_range=(1, 2)).fit(df['title'])\n",
        "\n",
        "X_train_vectors = vectorizer.transform(X_train['title'])\n",
        "X_test_vectors = vectorizer.transform(X_test['title'])"
      ],
      "execution_count": 80,
      "outputs": []
    },
    {
      "cell_type": "code",
      "metadata": {
        "id": "RjL64GJrL56f",
        "colab_type": "code",
        "colab": {
          "base_uri": "https://localhost:8080/",
          "height": 36
        },
        "outputId": "3d6fdb00-bea8-4f21-9b57-7d1f38648366"
      },
      "source": [
        "X_train_vectors.shape, X_test_vectors.shape"
      ],
      "execution_count": 81,
      "outputs": [
        {
          "output_type": "execute_result",
          "data": {
            "text/plain": [
              "((195898, 647490), (48975, 647490))"
            ]
          },
          "metadata": {
            "tags": []
          },
          "execution_count": 81
        }
      ]
    },
    {
      "cell_type": "code",
      "metadata": {
        "id": "B4CiCM5_3aqs",
        "colab_type": "code",
        "colab": {
          "base_uri": "https://localhost:8080/",
          "height": 74
        },
        "outputId": "9e12436a-583a-42d7-dca3-163baf14e083"
      },
      "source": [
        "num = 65\n",
        "X_train_vectors[num].data"
      ],
      "execution_count": 82,
      "outputs": [
        {
          "output_type": "execute_result",
          "data": {
            "text/plain": [
              "array([0.06793226, 0.39724121, 0.18410288, 0.36381559, 0.24111066,\n",
              "       0.39724121, 0.31800925, 0.21966795, 0.16695887, 0.42014438,\n",
              "       0.31876888])"
            ]
          },
          "metadata": {
            "tags": []
          },
          "execution_count": 82
        }
      ]
    },
    {
      "cell_type": "markdown",
      "metadata": {
        "id": "dKsFU-mjka0D",
        "colab_type": "text"
      },
      "source": [
        "#### Check TF-IDF"
      ]
    },
    {
      "cell_type": "code",
      "metadata": {
        "id": "09dijAIAL51F",
        "colab_type": "code",
        "colab": {
          "base_uri": "https://localhost:8080/",
          "height": 74
        },
        "outputId": "74a3bbce-88ee-48fc-e3b1-7c38c7f90564"
      },
      "source": [
        "vectorizer.inverse_transform(X_train_vectors[num])[0][np.argsort(X_train_vectors[num].data)]"
      ],
      "execution_count": 83,
      "outputs": [
        {
          "output_type": "execute_result",
          "data": {
            "text/plain": [
              "array(['oc', '2016', 'history', '2016 oc', 'german', 'bundesliga', '1963',\n",
              "       'german bundesliga', 'history german', 'bundesliga 1963',\n",
              "       '1963 2016'], dtype='<U105')"
            ]
          },
          "metadata": {
            "tags": []
          },
          "execution_count": 83
        }
      ]
    },
    {
      "cell_type": "markdown",
      "metadata": {
        "id": "D2XsY8hbknnr",
        "colab_type": "text"
      },
      "source": [
        "### kNN"
      ]
    },
    {
      "cell_type": "code",
      "metadata": {
        "id": "OHT9br1NlJxx",
        "colab_type": "code",
        "colab": {}
      },
      "source": [
        "knn = KNeighborsClassifier().fit(X_train_vectors, y_train)"
      ],
      "execution_count": 86,
      "outputs": []
    },
    {
      "cell_type": "code",
      "metadata": {
        "id": "NZ4s1rwjlTTE",
        "colab_type": "code",
        "colab": {
          "base_uri": "https://localhost:8080/",
          "height": 187
        },
        "outputId": "14ff2af6-47a7-4967-eef1-2108bb03800b"
      },
      "source": [
        "predicts = knn.predict((X_test_vectors))\n",
        "print(classification_report(y_test, predicts))"
      ],
      "execution_count": 87,
      "outputs": [
        {
          "output_type": "stream",
          "text": [
            "              precision    recall  f1-score   support\n",
            "\n",
            "           0       1.00      0.99      0.99     36590\n",
            "           1       0.97      1.00      0.98     12385\n",
            "\n",
            "    accuracy                           0.99     48975\n",
            "   macro avg       0.98      0.99      0.99     48975\n",
            "weighted avg       0.99      0.99      0.99     48975\n",
            "\n"
          ],
          "name": "stdout"
        }
      ]
    },
    {
      "cell_type": "markdown",
      "metadata": {
        "id": "5fzOphwtkfrr",
        "colab_type": "text"
      },
      "source": [
        "### Multinomial Naive Bayes"
      ]
    },
    {
      "cell_type": "code",
      "metadata": {
        "id": "uqnCvYh0L5xG",
        "colab_type": "code",
        "colab": {}
      },
      "source": [
        "clf = MultinomialNB().fit(X_train_vectors, y_train)"
      ],
      "execution_count": 88,
      "outputs": []
    },
    {
      "cell_type": "code",
      "metadata": {
        "id": "BNV3e0LvL5un",
        "colab_type": "code",
        "colab": {
          "base_uri": "https://localhost:8080/",
          "height": 187
        },
        "outputId": "ce7f102a-66bc-40e2-9a91-9baf88890fed"
      },
      "source": [
        "predicts = clf.predict((X_test_vectors))\n",
        "print(classification_report(y_test, predicts))"
      ],
      "execution_count": 89,
      "outputs": [
        {
          "output_type": "stream",
          "text": [
            "              precision    recall  f1-score   support\n",
            "\n",
            "           0       0.99      0.99      0.99     36590\n",
            "           1       0.97      0.98      0.98     12385\n",
            "\n",
            "    accuracy                           0.99     48975\n",
            "   macro avg       0.98      0.99      0.99     48975\n",
            "weighted avg       0.99      0.99      0.99     48975\n",
            "\n"
          ],
          "name": "stdout"
        }
      ]
    }
  ]
}