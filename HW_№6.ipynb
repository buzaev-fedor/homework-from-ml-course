{
  "nbformat": 4,
  "nbformat_minor": 0,
  "metadata": {
    "colab": {
      "name": "HW_№6.ipynb",
      "provenance": [],
      "collapsed_sections": [],
      "toc_visible": true,
      "include_colab_link": true
    },
    "kernelspec": {
      "display_name": "Python 3",
      "language": "python",
      "name": "python3"
    },
    "language_info": {
      "codemirror_mode": {
        "name": "ipython",
        "version": 3
      },
      "file_extension": ".py",
      "mimetype": "text/x-python",
      "name": "python",
      "nbconvert_exporter": "python",
      "pygments_lexer": "ipython3",
      "version": "3.7.6"
    }
  },
  "cells": [
    {
      "cell_type": "markdown",
      "metadata": {
        "id": "view-in-github",
        "colab_type": "text"
      },
      "source": [
        "<a href=\"https://colab.research.google.com/github/buzaev-fedor/project-from-ml-course/blob/master/HW_%E2%84%966.ipynb\" target=\"_parent\"><img src=\"https://colab.research.google.com/assets/colab-badge.svg\" alt=\"Open In Colab\"/></a>"
      ]
    },
    {
      "cell_type": "markdown",
      "metadata": {
        "colab_type": "text",
        "id": "xve-T-F32kKg"
      },
      "source": [
        "# Домашнее задание №6\n",
        "\n",
        "В этом домашнем задании нам нужно закрепить основы теорвера и статистики."
      ]
    },
    {
      "cell_type": "markdown",
      "metadata": {
        "colab_type": "text",
        "id": "iSYQfJZ_AYji"
      },
      "source": [
        "# Задача №1 (2б)\n",
        "\n",
        "(2 балла) Предположим Вы покупаете новый телефон, 80% покупателей удовлетворены покупкой. На каждой странице по 20 отзывов. Вы наугад выбираете одну из страниц отзывов, найдите вероятности обнаружить 12, 16 и 19 положительных отзывов."
      ]
    },
    {
      "cell_type": "code",
      "metadata": {
        "id": "qxrDdbny6evY",
        "colab_type": "code",
        "colab": {}
      },
      "source": [
        "import numpy as np\n",
        "import matplotlib.pyplot as plt\n",
        "import seaborn as sns\n",
        "from scipy.stats import binom\n",
        "import pandas as pd\n",
        "from scipy import stats"
      ],
      "execution_count": null,
      "outputs": []
    },
    {
      "cell_type": "code",
      "metadata": {
        "id": "29zwfIPe6evl",
        "colab_type": "code",
        "colab": {}
      },
      "source": [
        "def positiv_answer(k, n, p):\n",
        "    loc = 0\n",
        "    answ = binom.pmf(k, n, p, loc)\n",
        "    return (f\"Вероятность найти {k} положительных = {answ}\")"
      ],
      "execution_count": null,
      "outputs": []
    },
    {
      "cell_type": "code",
      "metadata": {
        "id": "qNTaWIle6evr",
        "colab_type": "code",
        "colab": {
          "base_uri": "https://localhost:8080/",
          "height": 74
        },
        "outputId": "3ed0eb62-979a-4a41-97d4-e8730174792a"
      },
      "source": [
        "print(positiv_answer(12, 20, 0.8))\n",
        "print(positiv_answer(16, 20, 0.8))\n",
        "print(positiv_answer(19, 20, 0.8))"
      ],
      "execution_count": null,
      "outputs": [
        {
          "output_type": "stream",
          "text": [
            "Вероятность найти 12 положительных = 0.022160876760150803\n",
            "Вероятность найти 16 положительных = 0.21819940194610007\n",
            "Вероятность найти 19 положительных = 0.05764607523034236\n"
          ],
          "name": "stdout"
        }
      ]
    },
    {
      "cell_type": "markdown",
      "metadata": {
        "colab_type": "text",
        "id": "3V0dHaGxzSFS"
      },
      "source": [
        "# Задача №2 (2б)\n",
        "\n",
        "(1 балл) Опираясь на задачу 1 найти вероятность того, что 2/5 всех отзывов на случайно выбранной странице будут негативными."
      ]
    },
    {
      "cell_type": "code",
      "metadata": {
        "id": "rkBbnb8M6ev0",
        "colab_type": "code",
        "colab": {}
      },
      "source": [
        "def answer(k, n, p):\n",
        "    loc = 0\n",
        "    answ = binom.pmf(k, n, p, loc)\n",
        "    return answ"
      ],
      "execution_count": null,
      "outputs": []
    },
    {
      "cell_type": "code",
      "metadata": {
        "id": "GxrzyNBu6ev7",
        "colab_type": "code",
        "colab": {
          "base_uri": "https://localhost:8080/",
          "height": 36
        },
        "outputId": "c9bff157-4de6-4a7c-a2e2-69effc696515"
      },
      "source": [
        "anst = 0\n",
        "for i in range(0, 13):\n",
        "    b = answer(i, 20, 0.8)\n",
        "    anst += b\n",
        "anst"
      ],
      "execution_count": null,
      "outputs": [
        {
          "output_type": "execute_result",
          "data": {
            "text/plain": [
              "0.03214266308087508"
            ]
          },
          "metadata": {
            "tags": []
          },
          "execution_count": 5
        }
      ]
    },
    {
      "cell_type": "code",
      "metadata": {
        "id": "TNlXisaVBP8u",
        "colab_type": "code",
        "colab": {
          "base_uri": "https://localhost:8080/",
          "height": 622
        },
        "outputId": "8742f9cf-065b-4ae2-eac8-1ec86a6d92c4"
      },
      "source": [
        "n = 20\n",
        "p = 0.8\n",
        "\n",
        "def binomial(n, k):\n",
        "    comb =1\n",
        "    for i in range(min(k, n-k)):\n",
        "        comb = comb*(n-i) // (i+1)\n",
        "    return comb\n",
        "\n",
        "pmf = np.array([p**i * (1-p)**(n-i) * binomial(n, i) for i in range(n + 1)])\n",
        "\n",
        "fig = plt.figure(figsize = (10, 10))\n",
        "plt.bar([i for i in range(n + 1)], pmf)\n",
        "plt.grid()\n",
        "plt.title('Вероятность обнаружения отзывов')\n",
        "plt.xlabel('Количество положительных отзывов')\n",
        "plt.ylabel('Вероятность')\n",
        "plt.show()"
      ],
      "execution_count": null,
      "outputs": [
        {
          "output_type": "display_data",
          "data": {
            "image/png": "[encoded data removed]",
            "text/plain": [
              "<Figure size 720x720 with 1 Axes>"
            ]
          },
          "metadata": {
            "tags": [],
            "needs_background": "light"
          }
        }
      ]
    },
    {
      "cell_type": "markdown",
      "metadata": {
        "colab_type": "text",
        "id": "LkNj7oyx3EhY"
      },
      "source": [
        "(1 балл) Построить гистограмму вероятностей обнаружения положительных отзывов на странице."
      ]
    },
    {
      "cell_type": "markdown",
      "metadata": {
        "colab_type": "text",
        "id": "EyPsaBfKG1L9"
      },
      "source": [
        "# Задача №3 (4б)\n",
        "\n",
        "Предположим у вас имеется датасет с описанием людей и меткой ' <=50K', которая показывает, получает ли человек (в США) более или менее 50к$ в год. Используя теорему Байеса покажите, что с ростом образования вероятность получать >50k в год растет.\n",
        "\n",
        "Код загрузки данных и результирующая таблица предоставлены.\n",
        "\n",
        "[Подсказка, теорема Байеса говорит нам, что\n",
        "\n",
        "$$P( > или < 50k|класс-образования) = \\frac{P(класс-образования | > или < 50k) * P(> или < 50k)}{P(наблюдать-этот-класс-образования)}$$\n",
        "\n",
        "\n",
        "Для лаконичной агрегации данных в pandas встроена функция [group by](https://realpython.com/pandas-groupby/)\n",
        "]"
      ]
    },
    {
      "cell_type": "code",
      "metadata": {
        "colab_type": "code",
        "id": "1_GKzDxHD6sq",
        "colab": {}
      },
      "source": [
        "df_temp = pd.read_csv('https://archive.ics.uci.edu/ml/machine-learning-databases/adult/adult.data')"
      ],
      "execution_count": null,
      "outputs": []
    },
    {
      "cell_type": "code",
      "metadata": {
        "colab_type": "code",
        "id": "ZG6hngXNIHMJ",
        "colab": {
          "base_uri": "https://localhost:8080/",
          "height": 206
        },
        "outputId": "601d39a3-3a2d-4b9d-bc77-ac05a20b8f02"
      },
      "source": [
        "df_temp.head()"
      ],
      "execution_count": null,
      "outputs": [
        {
          "output_type": "execute_result",
          "data": {
            "text/html": [
              "<div>\n",
              "<style scoped>\n",
              "    .dataframe tbody tr th:only-of-type {\n",
              "        vertical-align: middle;\n",
              "    }\n",
              "\n",
              "    .dataframe tbody tr th {\n",
              "        vertical-align: top;\n",
              "    }\n",
              "\n",
              "    .dataframe thead th {\n",
              "        text-align: right;\n",
              "    }\n",
              "</style>\n",
              "<table border=\"1\" class=\"dataframe\">\n",
              "  <thead>\n",
              "    <tr style=\"text-align: right;\">\n",
              "      <th></th>\n",
              "      <th>39</th>\n",
              "      <th>State-gov</th>\n",
              "      <th>77516</th>\n",
              "      <th>Bachelors</th>\n",
              "      <th>13</th>\n",
              "      <th>Never-married</th>\n",
              "      <th>Adm-clerical</th>\n",
              "      <th>Not-in-family</th>\n",
              "      <th>White</th>\n",
              "      <th>Male</th>\n",
              "      <th>2174</th>\n",
              "      <th>0</th>\n",
              "      <th>40</th>\n",
              "      <th>United-States</th>\n",
              "      <th>&lt;=50K</th>\n",
              "    </tr>\n",
              "  </thead>\n",
              "  <tbody>\n",
              "    <tr>\n",
              "      <th>0</th>\n",
              "      <td>50</td>\n",
              "      <td>Self-emp-not-inc</td>\n",
              "      <td>83311</td>\n",
              "      <td>Bachelors</td>\n",
              "      <td>13</td>\n",
              "      <td>Married-civ-spouse</td>\n",
              "      <td>Exec-managerial</td>\n",
              "      <td>Husband</td>\n",
              "      <td>White</td>\n",
              "      <td>Male</td>\n",
              "      <td>0</td>\n",
              "      <td>0</td>\n",
              "      <td>13</td>\n",
              "      <td>United-States</td>\n",
              "      <td>&lt;=50K</td>\n",
              "    </tr>\n",
              "    <tr>\n",
              "      <th>1</th>\n",
              "      <td>38</td>\n",
              "      <td>Private</td>\n",
              "      <td>215646</td>\n",
              "      <td>HS-grad</td>\n",
              "      <td>9</td>\n",
              "      <td>Divorced</td>\n",
              "      <td>Handlers-cleaners</td>\n",
              "      <td>Not-in-family</td>\n",
              "      <td>White</td>\n",
              "      <td>Male</td>\n",
              "      <td>0</td>\n",
              "      <td>0</td>\n",
              "      <td>40</td>\n",
              "      <td>United-States</td>\n",
              "      <td>&lt;=50K</td>\n",
              "    </tr>\n",
              "    <tr>\n",
              "      <th>2</th>\n",
              "      <td>53</td>\n",
              "      <td>Private</td>\n",
              "      <td>234721</td>\n",
              "      <td>11th</td>\n",
              "      <td>7</td>\n",
              "      <td>Married-civ-spouse</td>\n",
              "      <td>Handlers-cleaners</td>\n",
              "      <td>Husband</td>\n",
              "      <td>Black</td>\n",
              "      <td>Male</td>\n",
              "      <td>0</td>\n",
              "      <td>0</td>\n",
              "      <td>40</td>\n",
              "      <td>United-States</td>\n",
              "      <td>&lt;=50K</td>\n",
              "    </tr>\n",
              "    <tr>\n",
              "      <th>3</th>\n",
              "      <td>28</td>\n",
              "      <td>Private</td>\n",
              "      <td>338409</td>\n",
              "      <td>Bachelors</td>\n",
              "      <td>13</td>\n",
              "      <td>Married-civ-spouse</td>\n",
              "      <td>Prof-specialty</td>\n",
              "      <td>Wife</td>\n",
              "      <td>Black</td>\n",
              "      <td>Female</td>\n",
              "      <td>0</td>\n",
              "      <td>0</td>\n",
              "      <td>40</td>\n",
              "      <td>Cuba</td>\n",
              "      <td>&lt;=50K</td>\n",
              "    </tr>\n",
              "    <tr>\n",
              "      <th>4</th>\n",
              "      <td>37</td>\n",
              "      <td>Private</td>\n",
              "      <td>284582</td>\n",
              "      <td>Masters</td>\n",
              "      <td>14</td>\n",
              "      <td>Married-civ-spouse</td>\n",
              "      <td>Exec-managerial</td>\n",
              "      <td>Wife</td>\n",
              "      <td>White</td>\n",
              "      <td>Female</td>\n",
              "      <td>0</td>\n",
              "      <td>0</td>\n",
              "      <td>40</td>\n",
              "      <td>United-States</td>\n",
              "      <td>&lt;=50K</td>\n",
              "    </tr>\n",
              "  </tbody>\n",
              "</table>\n",
              "</div>"
            ],
            "text/plain": [
              "   39          State-gov   77516   Bachelors  ...   0  40   United-States   <=50K\n",
              "0  50   Self-emp-not-inc   83311   Bachelors  ...   0  13   United-States   <=50K\n",
              "1  38            Private  215646     HS-grad  ...   0  40   United-States   <=50K\n",
              "2  53            Private  234721        11th  ...   0  40   United-States   <=50K\n",
              "3  28            Private  338409   Bachelors  ...   0  40            Cuba   <=50K\n",
              "4  37            Private  284582     Masters  ...   0  40   United-States   <=50K\n",
              "\n",
              "[5 rows x 15 columns]"
            ]
          },
          "metadata": {
            "tags": []
          },
          "execution_count": 6
        }
      ]
    },
    {
      "cell_type": "code",
      "metadata": {
        "colab_type": "code",
        "id": "Vx0fr3-UIIVo",
        "colab": {
          "base_uri": "https://localhost:8080/",
          "height": 206
        },
        "outputId": "6c9b3108-d25a-44df-f00c-16fd28d92447"
      },
      "source": [
        "df = df_temp[[' Bachelors', ' <=50K']]\n",
        "# работаем конкретно с этой таблицей\n",
        "df.head()"
      ],
      "execution_count": null,
      "outputs": [
        {
          "output_type": "execute_result",
          "data": {
            "text/html": [
              "<div>\n",
              "<style scoped>\n",
              "    .dataframe tbody tr th:only-of-type {\n",
              "        vertical-align: middle;\n",
              "    }\n",
              "\n",
              "    .dataframe tbody tr th {\n",
              "        vertical-align: top;\n",
              "    }\n",
              "\n",
              "    .dataframe thead th {\n",
              "        text-align: right;\n",
              "    }\n",
              "</style>\n",
              "<table border=\"1\" class=\"dataframe\">\n",
              "  <thead>\n",
              "    <tr style=\"text-align: right;\">\n",
              "      <th></th>\n",
              "      <th>Bachelors</th>\n",
              "      <th>&lt;=50K</th>\n",
              "    </tr>\n",
              "  </thead>\n",
              "  <tbody>\n",
              "    <tr>\n",
              "      <th>0</th>\n",
              "      <td>Bachelors</td>\n",
              "      <td>&lt;=50K</td>\n",
              "    </tr>\n",
              "    <tr>\n",
              "      <th>1</th>\n",
              "      <td>HS-grad</td>\n",
              "      <td>&lt;=50K</td>\n",
              "    </tr>\n",
              "    <tr>\n",
              "      <th>2</th>\n",
              "      <td>11th</td>\n",
              "      <td>&lt;=50K</td>\n",
              "    </tr>\n",
              "    <tr>\n",
              "      <th>3</th>\n",
              "      <td>Bachelors</td>\n",
              "      <td>&lt;=50K</td>\n",
              "    </tr>\n",
              "    <tr>\n",
              "      <th>4</th>\n",
              "      <td>Masters</td>\n",
              "      <td>&lt;=50K</td>\n",
              "    </tr>\n",
              "  </tbody>\n",
              "</table>\n",
              "</div>"
            ],
            "text/plain": [
              "    Bachelors   <=50K\n",
              "0   Bachelors   <=50K\n",
              "1     HS-grad   <=50K\n",
              "2        11th   <=50K\n",
              "3   Bachelors   <=50K\n",
              "4     Masters   <=50K"
            ]
          },
          "metadata": {
            "tags": []
          },
          "execution_count": 7
        }
      ]
    },
    {
      "cell_type": "code",
      "metadata": {
        "id": "wy4TK97CE-QM",
        "colab_type": "code",
        "colab": {
          "base_uri": "https://localhost:8080/",
          "height": 357
        },
        "outputId": "7db33339-7d9e-4301-fc7f-e5acce2a9d12"
      },
      "source": [
        "countEdu = df.groupby([' Bachelors'])[' Bachelors'].count()\n",
        "countEdu"
      ],
      "execution_count": null,
      "outputs": [
        {
          "output_type": "execute_result",
          "data": {
            "text/plain": [
              " Bachelors\n",
              " 10th              933\n",
              " 11th             1175\n",
              " 12th              433\n",
              " 1st-4th           168\n",
              " 5th-6th           333\n",
              " 7th-8th           646\n",
              " 9th               514\n",
              " Assoc-acdm       1067\n",
              " Assoc-voc        1382\n",
              " Bachelors        5354\n",
              " Doctorate         413\n",
              " HS-grad         10501\n",
              " Masters          1723\n",
              " Preschool          51\n",
              " Prof-school       576\n",
              " Some-college     7291\n",
              "Name:  Bachelors, dtype: int64"
            ]
          },
          "metadata": {
            "tags": []
          },
          "execution_count": 9
        }
      ]
    },
    {
      "cell_type": "code",
      "metadata": {
        "id": "2ymZ3-ndQfpB",
        "colab_type": "code",
        "colab": {
          "base_uri": "https://localhost:8080/",
          "height": 92
        },
        "outputId": "a7cf3b24-0a85-41e7-a807-8a5a66c43916"
      },
      "source": [
        "countSalary = df.groupby([' <=50K'])[' <=50K'].count()\n",
        "countSalary"
      ],
      "execution_count": null,
      "outputs": [
        {
          "output_type": "execute_result",
          "data": {
            "text/plain": [
              " <=50K\n",
              " <=50K    24719\n",
              " >50K      7841\n",
              "Name:  <=50K, dtype: int64"
            ]
          },
          "metadata": {
            "tags": []
          },
          "execution_count": 51
        }
      ]
    },
    {
      "cell_type": "code",
      "metadata": {
        "id": "y-PYDc2JN7Hn",
        "colab_type": "code",
        "colab": {}
      },
      "source": [
        "totalSalary = countSalary.sum()"
      ],
      "execution_count": null,
      "outputs": []
    },
    {
      "cell_type": "code",
      "metadata": {
        "id": "l7dopVG9QppM",
        "colab_type": "code",
        "colab": {
          "base_uri": "https://localhost:8080/",
          "height": 55
        },
        "outputId": "4172bffb-36e0-4175-fa02-0a310b9da248"
      },
      "source": [
        "a = countSalary[0]/totalSalary\n",
        "b = countSalary[1]/totalSalary\n",
        "print(a)\n",
        "print(b)"
      ],
      "execution_count": null,
      "outputs": [
        {
          "output_type": "stream",
          "text": [
            "0.7591830466830467\n",
            "0.24081695331695332\n"
          ],
          "name": "stdout"
        }
      ]
    },
    {
      "cell_type": "code",
      "metadata": {
        "id": "9cOyGT8BqgEI",
        "colab_type": "code",
        "colab": {
          "base_uri": "https://localhost:8080/",
          "height": 1000
        },
        "outputId": "cdaaf1a2-31f5-423f-c525-e23be3e56748"
      },
      "source": [
        "test_df = pd.DataFrame(df.groupby([' Bachelors', ' <=50K'])[' Bachelors'].count())\n",
        "test_df['Всего людей по классу образования'] = 0\n",
        "test_df['P(наблюдать этот класс образования)'] = np.dtype(float)\n",
        "test_df['P(> или < 50k)'] = np.dtype(float)\n",
        "test_df['P(класс образования | > или < 50k)'] = np.dtype(float)\n",
        "test_df['P( > или < 50k | класс образования)'] = np.dtype(float)\n",
        "for i in range(test_df.index.size):\n",
        "    test_df['Всего людей по классу образования'][i] = (sum(test_df.loc[test_df.index[i][0]].values[:2,0]))\n",
        "    test_df['P(наблюдать этот класс образования)'][i] = ((test_df.values[i][1])  / totalSalary).round(6)\n",
        "    if test_df.index[i][1] == test_df.index[0][1]:\n",
        "        test_df['P(> или < 50k)'][i] = a\n",
        "        test_df['P(класс образования | > или < 50k)'][i] = (test_df.values[i,0]/countSalary[0]).round(6)\n",
        "        test_df['P( > или < 50k | класс образования)'][i] = ((test_df['P(> или < 50k)'][i] * test_df['P(класс образования | > или < 50k)'][i]) / test_df['P(наблюдать этот класс образования)'][i]).round(6)\n",
        "    else:\n",
        "        test_df['P(> или < 50k)'][i] = b\n",
        "        test_df['P(класс образования | > или < 50k)'][i] = (test_df.values[i,0]/countSalary[1]).round(6)\n",
        "        test_df['P( > или < 50k | класс образования)'][i] = ((test_df['P(> или < 50k)'][i] * test_df['P(класс образования | > или < 50k)'][i]) / test_df['P(наблюдать этот класс образования)'][i]).round(6)\n",
        "test_df"
      ],
      "execution_count": null,
      "outputs": [
        {
          "output_type": "stream",
          "text": [
            "/usr/local/lib/python3.6/dist-packages/ipykernel_launcher.py:8: SettingWithCopyWarning: \n",
            "A value is trying to be set on a copy of a slice from a DataFrame\n",
            "\n",
            "See the caveats in the documentation: https://pandas.pydata.org/pandas-docs/stable/user_guide/indexing.html#returning-a-view-versus-a-copy\n",
            "  \n",
            "/usr/local/lib/python3.6/dist-packages/ipykernel_launcher.py:9: SettingWithCopyWarning: \n",
            "A value is trying to be set on a copy of a slice from a DataFrame\n",
            "\n",
            "See the caveats in the documentation: https://pandas.pydata.org/pandas-docs/stable/user_guide/indexing.html#returning-a-view-versus-a-copy\n",
            "  if __name__ == '__main__':\n",
            "/usr/local/lib/python3.6/dist-packages/ipykernel_launcher.py:11: SettingWithCopyWarning: \n",
            "A value is trying to be set on a copy of a slice from a DataFrame\n",
            "\n",
            "See the caveats in the documentation: https://pandas.pydata.org/pandas-docs/stable/user_guide/indexing.html#returning-a-view-versus-a-copy\n",
            "  # This is added back by InteractiveShellApp.init_path()\n",
            "/usr/local/lib/python3.6/dist-packages/ipykernel_launcher.py:12: SettingWithCopyWarning: \n",
            "A value is trying to be set on a copy of a slice from a DataFrame\n",
            "\n",
            "See the caveats in the documentation: https://pandas.pydata.org/pandas-docs/stable/user_guide/indexing.html#returning-a-view-versus-a-copy\n",
            "  if sys.path[0] == '':\n",
            "/usr/local/lib/python3.6/dist-packages/ipykernel_launcher.py:13: SettingWithCopyWarning: \n",
            "A value is trying to be set on a copy of a slice from a DataFrame\n",
            "\n",
            "See the caveats in the documentation: https://pandas.pydata.org/pandas-docs/stable/user_guide/indexing.html#returning-a-view-versus-a-copy\n",
            "  del sys.path[0]\n",
            "/usr/local/lib/python3.6/dist-packages/ipykernel_launcher.py:15: SettingWithCopyWarning: \n",
            "A value is trying to be set on a copy of a slice from a DataFrame\n",
            "\n",
            "See the caveats in the documentation: https://pandas.pydata.org/pandas-docs/stable/user_guide/indexing.html#returning-a-view-versus-a-copy\n",
            "  from ipykernel import kernelapp as app\n",
            "/usr/local/lib/python3.6/dist-packages/ipykernel_launcher.py:16: SettingWithCopyWarning: \n",
            "A value is trying to be set on a copy of a slice from a DataFrame\n",
            "\n",
            "See the caveats in the documentation: https://pandas.pydata.org/pandas-docs/stable/user_guide/indexing.html#returning-a-view-versus-a-copy\n",
            "  app.launch_new_instance()\n",
            "/usr/local/lib/python3.6/dist-packages/ipykernel_launcher.py:17: SettingWithCopyWarning: \n",
            "A value is trying to be set on a copy of a slice from a DataFrame\n",
            "\n",
            "See the caveats in the documentation: https://pandas.pydata.org/pandas-docs/stable/user_guide/indexing.html#returning-a-view-versus-a-copy\n"
          ],
          "name": "stderr"
        },
        {
          "output_type": "execute_result",
          "data": {
            "text/html": [
              "<div>\n",
              "<style scoped>\n",
              "    .dataframe tbody tr th:only-of-type {\n",
              "        vertical-align: middle;\n",
              "    }\n",
              "\n",
              "    .dataframe tbody tr th {\n",
              "        vertical-align: top;\n",
              "    }\n",
              "\n",
              "    .dataframe thead th {\n",
              "        text-align: right;\n",
              "    }\n",
              "</style>\n",
              "<table border=\"1\" class=\"dataframe\">\n",
              "  <thead>\n",
              "    <tr style=\"text-align: right;\">\n",
              "      <th></th>\n",
              "      <th></th>\n",
              "      <th>Bachelors</th>\n",
              "      <th>Всего людей по классу образования</th>\n",
              "      <th>P(наблюдать этот класс образования)</th>\n",
              "      <th>P(&gt; или &lt; 50k)</th>\n",
              "      <th>P(класс образования | &gt; или &lt; 50k)</th>\n",
              "      <th>P( &gt; или &lt; 50k | класс образования)</th>\n",
              "    </tr>\n",
              "    <tr>\n",
              "      <th>Bachelors</th>\n",
              "      <th>&lt;=50K</th>\n",
              "      <th></th>\n",
              "      <th></th>\n",
              "      <th></th>\n",
              "      <th></th>\n",
              "      <th></th>\n",
              "      <th></th>\n",
              "    </tr>\n",
              "  </thead>\n",
              "  <tbody>\n",
              "    <tr>\n",
              "      <th rowspan=\"2\" valign=\"top\">10th</th>\n",
              "      <th>&lt;=50K</th>\n",
              "      <td>871</td>\n",
              "      <td>933</td>\n",
              "      <td>0.028655</td>\n",
              "      <td>0.759183</td>\n",
              "      <td>0.035236</td>\n",
              "      <td>0.933539</td>\n",
              "    </tr>\n",
              "    <tr>\n",
              "      <th>&gt;50K</th>\n",
              "      <td>62</td>\n",
              "      <td>933</td>\n",
              "      <td>0.028655</td>\n",
              "      <td>0.240817</td>\n",
              "      <td>0.007907</td>\n",
              "      <td>0.066451</td>\n",
              "    </tr>\n",
              "    <tr>\n",
              "      <th rowspan=\"2\" valign=\"top\">11th</th>\n",
              "      <th>&lt;=50K</th>\n",
              "      <td>1115</td>\n",
              "      <td>1175</td>\n",
              "      <td>0.036087</td>\n",
              "      <td>0.759183</td>\n",
              "      <td>0.045107</td>\n",
              "      <td>0.948942</td>\n",
              "    </tr>\n",
              "    <tr>\n",
              "      <th>&gt;50K</th>\n",
              "      <td>60</td>\n",
              "      <td>1175</td>\n",
              "      <td>0.036087</td>\n",
              "      <td>0.240817</td>\n",
              "      <td>0.007652</td>\n",
              "      <td>0.051064</td>\n",
              "    </tr>\n",
              "    <tr>\n",
              "      <th rowspan=\"2\" valign=\"top\">12th</th>\n",
              "      <th>&lt;=50K</th>\n",
              "      <td>400</td>\n",
              "      <td>433</td>\n",
              "      <td>0.013299</td>\n",
              "      <td>0.759183</td>\n",
              "      <td>0.016182</td>\n",
              "      <td>0.923761</td>\n",
              "    </tr>\n",
              "    <tr>\n",
              "      <th>&gt;50K</th>\n",
              "      <td>33</td>\n",
              "      <td>433</td>\n",
              "      <td>0.013299</td>\n",
              "      <td>0.240817</td>\n",
              "      <td>0.004209</td>\n",
              "      <td>0.076216</td>\n",
              "    </tr>\n",
              "    <tr>\n",
              "      <th rowspan=\"2\" valign=\"top\">1st-4th</th>\n",
              "      <th>&lt;=50K</th>\n",
              "      <td>162</td>\n",
              "      <td>168</td>\n",
              "      <td>0.00516</td>\n",
              "      <td>0.759183</td>\n",
              "      <td>0.006554</td>\n",
              "      <td>0.96428</td>\n",
              "    </tr>\n",
              "    <tr>\n",
              "      <th>&gt;50K</th>\n",
              "      <td>6</td>\n",
              "      <td>168</td>\n",
              "      <td>0.00516</td>\n",
              "      <td>0.240817</td>\n",
              "      <td>0.000765</td>\n",
              "      <td>0.035703</td>\n",
              "    </tr>\n",
              "    <tr>\n",
              "      <th rowspan=\"2\" valign=\"top\">5th-6th</th>\n",
              "      <th>&lt;=50K</th>\n",
              "      <td>317</td>\n",
              "      <td>333</td>\n",
              "      <td>0.010227</td>\n",
              "      <td>0.759183</td>\n",
              "      <td>0.012824</td>\n",
              "      <td>0.951967</td>\n",
              "    </tr>\n",
              "    <tr>\n",
              "      <th>&gt;50K</th>\n",
              "      <td>16</td>\n",
              "      <td>333</td>\n",
              "      <td>0.010227</td>\n",
              "      <td>0.240817</td>\n",
              "      <td>0.002041</td>\n",
              "      <td>0.04806</td>\n",
              "    </tr>\n",
              "    <tr>\n",
              "      <th rowspan=\"2\" valign=\"top\">7th-8th</th>\n",
              "      <th>&lt;=50K</th>\n",
              "      <td>606</td>\n",
              "      <td>646</td>\n",
              "      <td>0.01984</td>\n",
              "      <td>0.759183</td>\n",
              "      <td>0.024516</td>\n",
              "      <td>0.938111</td>\n",
              "    </tr>\n",
              "    <tr>\n",
              "      <th>&gt;50K</th>\n",
              "      <td>40</td>\n",
              "      <td>646</td>\n",
              "      <td>0.01984</td>\n",
              "      <td>0.240817</td>\n",
              "      <td>0.005101</td>\n",
              "      <td>0.061916</td>\n",
              "    </tr>\n",
              "    <tr>\n",
              "      <th rowspan=\"2\" valign=\"top\">9th</th>\n",
              "      <th>&lt;=50K</th>\n",
              "      <td>487</td>\n",
              "      <td>514</td>\n",
              "      <td>0.015786</td>\n",
              "      <td>0.759183</td>\n",
              "      <td>0.019701</td>\n",
              "      <td>0.947464</td>\n",
              "    </tr>\n",
              "    <tr>\n",
              "      <th>&gt;50K</th>\n",
              "      <td>27</td>\n",
              "      <td>514</td>\n",
              "      <td>0.015786</td>\n",
              "      <td>0.240817</td>\n",
              "      <td>0.003443</td>\n",
              "      <td>0.052523</td>\n",
              "    </tr>\n",
              "    <tr>\n",
              "      <th rowspan=\"2\" valign=\"top\">Assoc-acdm</th>\n",
              "      <th>&lt;=50K</th>\n",
              "      <td>802</td>\n",
              "      <td>1067</td>\n",
              "      <td>0.03277</td>\n",
              "      <td>0.759183</td>\n",
              "      <td>0.032445</td>\n",
              "      <td>0.751654</td>\n",
              "    </tr>\n",
              "    <tr>\n",
              "      <th>&gt;50K</th>\n",
              "      <td>265</td>\n",
              "      <td>1067</td>\n",
              "      <td>0.03277</td>\n",
              "      <td>0.240817</td>\n",
              "      <td>0.033797</td>\n",
              "      <td>0.248364</td>\n",
              "    </tr>\n",
              "    <tr>\n",
              "      <th rowspan=\"2\" valign=\"top\">Assoc-voc</th>\n",
              "      <th>&lt;=50K</th>\n",
              "      <td>1021</td>\n",
              "      <td>1382</td>\n",
              "      <td>0.042445</td>\n",
              "      <td>0.759183</td>\n",
              "      <td>0.041304</td>\n",
              "      <td>0.738775</td>\n",
              "    </tr>\n",
              "    <tr>\n",
              "      <th>&gt;50K</th>\n",
              "      <td>361</td>\n",
              "      <td>1382</td>\n",
              "      <td>0.042445</td>\n",
              "      <td>0.240817</td>\n",
              "      <td>0.04604</td>\n",
              "      <td>0.261214</td>\n",
              "    </tr>\n",
              "    <tr>\n",
              "      <th rowspan=\"2\" valign=\"top\">Bachelors</th>\n",
              "      <th>&lt;=50K</th>\n",
              "      <td>3133</td>\n",
              "      <td>5354</td>\n",
              "      <td>0.164435</td>\n",
              "      <td>0.759183</td>\n",
              "      <td>0.126745</td>\n",
              "      <td>0.585171</td>\n",
              "    </tr>\n",
              "    <tr>\n",
              "      <th>&gt;50K</th>\n",
              "      <td>2221</td>\n",
              "      <td>5354</td>\n",
              "      <td>0.164435</td>\n",
              "      <td>0.240817</td>\n",
              "      <td>0.283255</td>\n",
              "      <td>0.41483</td>\n",
              "    </tr>\n",
              "    <tr>\n",
              "      <th rowspan=\"2\" valign=\"top\">Doctorate</th>\n",
              "      <th>&lt;=50K</th>\n",
              "      <td>107</td>\n",
              "      <td>413</td>\n",
              "      <td>0.012684</td>\n",
              "      <td>0.759183</td>\n",
              "      <td>0.004329</td>\n",
              "      <td>0.259106</td>\n",
              "    </tr>\n",
              "    <tr>\n",
              "      <th>&gt;50K</th>\n",
              "      <td>306</td>\n",
              "      <td>413</td>\n",
              "      <td>0.012684</td>\n",
              "      <td>0.240817</td>\n",
              "      <td>0.039026</td>\n",
              "      <td>0.740943</td>\n",
              "    </tr>\n",
              "    <tr>\n",
              "      <th rowspan=\"2\" valign=\"top\">HS-grad</th>\n",
              "      <th>&lt;=50K</th>\n",
              "      <td>8826</td>\n",
              "      <td>10501</td>\n",
              "      <td>0.322512</td>\n",
              "      <td>0.759183</td>\n",
              "      <td>0.357053</td>\n",
              "      <td>0.840491</td>\n",
              "    </tr>\n",
              "    <tr>\n",
              "      <th>&gt;50K</th>\n",
              "      <td>1675</td>\n",
              "      <td>10501</td>\n",
              "      <td>0.322512</td>\n",
              "      <td>0.240817</td>\n",
              "      <td>0.213621</td>\n",
              "      <td>0.159509</td>\n",
              "    </tr>\n",
              "    <tr>\n",
              "      <th rowspan=\"2\" valign=\"top\">Masters</th>\n",
              "      <th>&lt;=50K</th>\n",
              "      <td>764</td>\n",
              "      <td>1723</td>\n",
              "      <td>0.052918</td>\n",
              "      <td>0.759183</td>\n",
              "      <td>0.030907</td>\n",
              "      <td>0.443404</td>\n",
              "    </tr>\n",
              "    <tr>\n",
              "      <th>&gt;50K</th>\n",
              "      <td>959</td>\n",
              "      <td>1723</td>\n",
              "      <td>0.052918</td>\n",
              "      <td>0.240817</td>\n",
              "      <td>0.122306</td>\n",
              "      <td>0.556585</td>\n",
              "    </tr>\n",
              "    <tr>\n",
              "      <th>Preschool</th>\n",
              "      <th>&lt;=50K</th>\n",
              "      <td>51</td>\n",
              "      <td>51</td>\n",
              "      <td>0.001566</td>\n",
              "      <td>0.759183</td>\n",
              "      <td>0.002063</td>\n",
              "      <td>1.00012</td>\n",
              "    </tr>\n",
              "    <tr>\n",
              "      <th rowspan=\"2\" valign=\"top\">Prof-school</th>\n",
              "      <th>&lt;=50K</th>\n",
              "      <td>153</td>\n",
              "      <td>576</td>\n",
              "      <td>0.01769</td>\n",
              "      <td>0.759183</td>\n",
              "      <td>0.00619</td>\n",
              "      <td>0.26565</td>\n",
              "    </tr>\n",
              "    <tr>\n",
              "      <th>&gt;50K</th>\n",
              "      <td>423</td>\n",
              "      <td>576</td>\n",
              "      <td>0.01769</td>\n",
              "      <td>0.240817</td>\n",
              "      <td>0.053947</td>\n",
              "      <td>0.73439</td>\n",
              "    </tr>\n",
              "    <tr>\n",
              "      <th rowspan=\"2\" valign=\"top\">Some-college</th>\n",
              "      <th>&lt;=50K</th>\n",
              "      <td>5904</td>\n",
              "      <td>7291</td>\n",
              "      <td>0.223925</td>\n",
              "      <td>0.759183</td>\n",
              "      <td>0.238845</td>\n",
              "      <td>0.809767</td>\n",
              "    </tr>\n",
              "    <tr>\n",
              "      <th>&gt;50K</th>\n",
              "      <td>1387</td>\n",
              "      <td>7291</td>\n",
              "      <td>0.223925</td>\n",
              "      <td>0.240817</td>\n",
              "      <td>0.176891</td>\n",
              "      <td>0.190235</td>\n",
              "    </tr>\n",
              "  </tbody>\n",
              "</table>\n",
              "</div>"
            ],
            "text/plain": [
              "                       Bachelors  ...  P( > или < 50k | класс образования)\n",
              " Bachelors     <=50K              ...                                     \n",
              " 10th          <=50K         871  ...                             0.933539\n",
              "               >50K           62  ...                             0.066451\n",
              " 11th          <=50K        1115  ...                             0.948942\n",
              "               >50K           60  ...                             0.051064\n",
              " 12th          <=50K         400  ...                             0.923761\n",
              "               >50K           33  ...                             0.076216\n",
              " 1st-4th       <=50K         162  ...                              0.96428\n",
              "               >50K            6  ...                             0.035703\n",
              " 5th-6th       <=50K         317  ...                             0.951967\n",
              "               >50K           16  ...                              0.04806\n",
              " 7th-8th       <=50K         606  ...                             0.938111\n",
              "               >50K           40  ...                             0.061916\n",
              " 9th           <=50K         487  ...                             0.947464\n",
              "               >50K           27  ...                             0.052523\n",
              " Assoc-acdm    <=50K         802  ...                             0.751654\n",
              "               >50K          265  ...                             0.248364\n",
              " Assoc-voc     <=50K        1021  ...                             0.738775\n",
              "               >50K          361  ...                             0.261214\n",
              " Bachelors     <=50K        3133  ...                             0.585171\n",
              "               >50K         2221  ...                              0.41483\n",
              " Doctorate     <=50K         107  ...                             0.259106\n",
              "               >50K          306  ...                             0.740943\n",
              " HS-grad       <=50K        8826  ...                             0.840491\n",
              "               >50K         1675  ...                             0.159509\n",
              " Masters       <=50K         764  ...                             0.443404\n",
              "               >50K          959  ...                             0.556585\n",
              " Preschool     <=50K          51  ...                              1.00012\n",
              " Prof-school   <=50K         153  ...                              0.26565\n",
              "               >50K          423  ...                              0.73439\n",
              " Some-college  <=50K        5904  ...                             0.809767\n",
              "               >50K         1387  ...                             0.190235\n",
              "\n",
              "[31 rows x 6 columns]"
            ]
          },
          "metadata": {
            "tags": []
          },
          "execution_count": 132
        }
      ]
    },
    {
      "cell_type": "markdown",
      "metadata": {
        "colab_type": "text",
        "id": "T57iQPQ_bPWd"
      },
      "source": [
        "Из таблицы видно, что вероятность получать более 50 тыс $ в год растет с образованием. См. вероятности >50K у бакалавров, мастеров и докторов (0.414830, 0.556587, 0.740920 соответсвенно)"
      ]
    },
    {
      "cell_type": "markdown",
      "metadata": {
        "colab_type": "text",
        "id": "B00NgdEbdgGV"
      },
      "source": [
        "# Задача №4 (2б)\n",
        "\n",
        "Пускай мы имеем 2 выборки нормально распределенных наблюдений. Проверить, различаются ли выборки между собой. (Полагаем уровень значимости p = 0,01)"
      ]
    },
    {
      "cell_type": "code",
      "metadata": {
        "colab_type": "code",
        "id": "5-9Ez7a6elbY",
        "colab": {}
      },
      "source": [
        "np.random.seed(1346)\n",
        "first = stats.norm.rvs(loc=5,scale=10,size=1000)\n",
        "second = stats.norm.rvs(loc=5,scale=10,size=1000)"
      ],
      "execution_count": null,
      "outputs": []
    },
    {
      "cell_type": "code",
      "metadata": {
        "colab_type": "code",
        "id": "VzxahjUefM6e",
        "colab": {
          "base_uri": "https://localhost:8080/",
          "height": 359
        },
        "outputId": "b442ab84-79de-4d00-a0c0-839071e0ad5a"
      },
      "source": [
        "plt.hist(first)\n",
        "plt.hist(second)"
      ],
      "execution_count": null,
      "outputs": [
        {
          "output_type": "execute_result",
          "data": {
            "text/plain": [
              "(array([ 11.,  33., 115., 183., 222., 206., 144.,  58.,  24.,   4.]),\n",
              " array([-23.37219053, -17.32136268, -11.27053482,  -5.21970697,\n",
              "          0.83112088,   6.88194873,  12.93277658,  18.98360443,\n",
              "         25.03443228,  31.08526013,  37.13608798]),\n",
              " <a list of 10 Patch objects>)"
            ]
          },
          "metadata": {
            "tags": []
          },
          "execution_count": 145
        },
        {
          "output_type": "display_data",
          "data": {
            "image/png": "[encoded data removed]",
            "text/plain": [
              "<Figure size 432x288 with 1 Axes>"
            ]
          },
          "metadata": {
            "tags": [],
            "needs_background": "light"
          }
        }
      ]
    },
    {
      "cell_type": "code",
      "metadata": {
        "id": "FEp4lMAEuqNo",
        "colab_type": "code",
        "colab": {
          "base_uri": "https://localhost:8080/",
          "height": 36
        },
        "outputId": "4102c333-efb3-4024-d183-d887d0820a82"
      },
      "source": [
        "scipy.stats.ttest_rel(second, first)"
      ],
      "execution_count": null,
      "outputs": [
        {
          "output_type": "execute_result",
          "data": {
            "text/plain": [
              "Ttest_relResult(statistic=2.0068498129259122, pvalue=0.045034711924137716)"
            ]
          },
          "metadata": {
            "tags": []
          },
          "execution_count": 152
        }
      ]
    }
  ]
}